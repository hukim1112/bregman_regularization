{
 "cells": [
  {
   "cell_type": "code",
   "execution_count": 1,
   "metadata": {},
   "outputs": [],
   "source": [
    "import tensorflow as tf\n",
    "from datasets import flower_dataset_setting"
   ]
  },
  {
   "cell_type": "code",
   "execution_count": 2,
   "metadata": {},
   "outputs": [
    {
     "name": "stdout",
     "output_type": "stream",
     "text": [
      "split flower dataset into  train eval test\n"
     ]
    }
   ],
   "source": [
    "dict_of_split_info = {'train': 2500, 'eval': 670, 'test' : 500}\n",
    "#dict_of_split_info = {'train': 2500, 'test': 1170}\n",
    "splits_name = \"\"\n",
    "for i in dict_of_split_info.keys():\n",
    "    splits_name = splits_name + \" \" + i\n",
    "\n",
    "print(\"split flower dataset into {}\".format(splits_name))\n",
    "dataset_dir = \"/home/dan/prj/datasets/flower_photos\"\n",
    "dest_dir = '/home/dan/prj/datasets/flower_example'\n",
    "flower_dataset_setting.get_split_dataset(dataset_dir, dest_dir, dict_of_split_info)"
   ]
  },
  {
   "cell_type": "code",
   "execution_count": 3,
   "metadata": {},
   "outputs": [
    {
     "name": "stdout",
     "output_type": "stream",
     "text": [
      "ss\n",
      "ss\n",
      "ss\n"
     ]
    }
   ],
   "source": [
    "dataset_dir = \"/home/dan/prj/datasets/flower_example/train\"\n",
    "dest_dir = \"/home/dan/prj/datasets/flower_example\"\n",
    "flower_dataset_setting.get_train_split(dataset_dir, dest_dir, [1500, 540, 116])"
   ]
  },
  {
   "cell_type": "code",
   "execution_count": null,
   "metadata": {},
   "outputs": [],
   "source": []
  }
 ],
 "metadata": {
  "kernelspec": {
   "display_name": "p3tf",
   "language": "python",
   "name": "p3tf"
  },
  "language_info": {
   "codemirror_mode": {
    "name": "ipython",
    "version": 3
   },
   "file_extension": ".py",
   "mimetype": "text/x-python",
   "name": "python",
   "nbconvert_exporter": "python",
   "pygments_lexer": "ipython3",
   "version": "3.6.7"
  }
 },
 "nbformat": 4,
 "nbformat_minor": 2
}
