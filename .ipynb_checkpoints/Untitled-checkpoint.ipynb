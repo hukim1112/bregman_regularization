{
 "cells": [
  {
   "cell_type": "code",
   "execution_count": 1,
   "metadata": {},
   "outputs": [],
   "source": [
    "import tensorflow as tf\n",
    "import os\n",
    "import cv2\n",
    "from matplotlib import pyplot as plt\n",
    "%matplotlib inline  \n",
    "\n",
    "from datasets import flower_dataset\n",
    "from models import models"
   ]
  },
  {
   "cell_type": "code",
   "execution_count": 2,
   "metadata": {},
   "outputs": [],
   "source": [
    "params = {'learning_rate' : 0.001,\n",
    "     \t\t\t'batch_size' : 64,\n",
    "     \t\t\t'pretrained_model' : '/home/dan/prj/checkpoints/inception_v1/inception_v1.ckpt',\n",
    "     \t\t\t 'model_dir' : '/home/dan/prj/checkpoints/flowers/vanilla',\n",
    "     \t\t\t 'iteration' : 20000,\n",
    "     \t\t\t  'num_classes' : 5,\n",
    "     \t\t\t   'train_datadir' : '/home/dan/prj/datasets/flowers/flower_example1/train',\n",
    "     \t\t\t    'eval_datadir' : '/home/dan/prj/datasets/flowers/flower_example1/eval'}"
   ]
  },
  {
   "cell_type": "code",
   "execution_count": 3,
   "metadata": {},
   "outputs": [
    {
     "name": "stdout",
     "output_type": "stream",
     "text": [
      "INFO:tensorflow:Restoring parameters from /home/dan/prj/checkpoints/inception_v1/inception_v1.ckpt\n",
      "restored from pretrained model\n"
     ]
    }
   ],
   "source": [
    "classifier = models.model(params)"
   ]
  },
  {
   "cell_type": "code",
   "execution_count": 5,
   "metadata": {},
   "outputs": [
    {
     "name": "stdout",
     "output_type": "stream",
     "text": [
      "number of evaluation dataset 1170\n",
      "19\n",
      "(64, 224, 224, 3)\n",
      "(64, 224, 224, 3)\n",
      "(64, 224, 224, 3)\n",
      "(64, 224, 224, 3)\n",
      "(64, 224, 224, 3)\n",
      "(64, 224, 224, 3)\n",
      "(64, 224, 224, 3)\n",
      "(64, 224, 224, 3)\n",
      "(64, 224, 224, 3)\n",
      "(64, 224, 224, 3)\n",
      "(64, 224, 224, 3)\n",
      "(64, 224, 224, 3)\n",
      "(64, 224, 224, 3)\n",
      "(64, 224, 224, 3)\n",
      "(64, 224, 224, 3)\n",
      "(64, 224, 224, 3)\n",
      "(64, 224, 224, 3)\n",
      "(64, 224, 224, 3)\n",
      "(18, 224, 224, 3)\n"
     ]
    }
   ],
   "source": [
    "classifier.eval_test(params)"
   ]
  },
  {
   "cell_type": "code",
   "execution_count": null,
   "metadata": {},
   "outputs": [],
   "source": []
  },
  {
   "cell_type": "code",
   "execution_count": null,
   "metadata": {},
   "outputs": [],
   "source": []
  }
 ],
 "metadata": {
  "kernelspec": {
   "display_name": "tf",
   "language": "python",
   "name": "tf"
  },
  "language_info": {
   "codemirror_mode": {
    "name": "ipython",
    "version": 3
   },
   "file_extension": ".py",
   "mimetype": "text/x-python",
   "name": "python",
   "nbconvert_exporter": "python",
   "pygments_lexer": "ipython3",
   "version": "3.6.7"
  }
 },
 "nbformat": 4,
 "nbformat_minor": 2
}
