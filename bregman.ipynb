{
 "cells": [
  {
   "cell_type": "code",
   "execution_count": 1,
   "metadata": {},
   "outputs": [],
   "source": [
    "import tensorflow as tf\n",
    "import os\n",
    "import cv2\n",
    "from matplotlib import pyplot as plt\n",
    "%matplotlib inline  "
   ]
  },
  {
   "cell_type": "code",
   "execution_count": 2,
   "metadata": {},
   "outputs": [],
   "source": [
    "tf.enable_eager_execution()"
   ]
  },
  {
   "cell_type": "code",
   "execution_count": null,
   "metadata": {},
   "outputs": [],
   "source": [
    "def get_category_prototypes_from_embeddings(embeddings, labels, class_num):\n",
    "\tclass_ids = list(range(class_num))\n",
    "\tclass_ids = tf.reshape(tf.constant(class_ids), shape=(len(class_ids), 1))\n",
    "\n",
    "\tindice = tf.equal(labels, class_ids)\n",
    "\n",
    "\tprototypes = tf.map_fn(lambda x : tf.reduce_mean(tf.squeeze(tf.gather(embeddings, tf.where(x)), axis=1), axis=0), indice, dtype=embeddings.dtype)\n",
    "\treturn prototypes"
   ]
  },
  {
   "cell_type": "code",
   "execution_count": null,
   "metadata": {},
   "outputs": [],
   "source": [
    "embeddings = tf.constant([[0.5, 2.0, 3.0], [4, 5, 6], [7, 8, 9], [10, 20, 30]], tf.float32)\n",
    "labels = tf.constant([0, 0, 0, 1], tf.int32)\n",
    "class_num = 2"
   ]
  },
  {
   "cell_type": "code",
   "execution_count": null,
   "metadata": {},
   "outputs": [],
   "source": [
    "result = get_category_prototypes_from_embeddings(embeddings, labels, class_num)\n",
    "print(result)"
   ]
  },
  {
   "cell_type": "code",
   "execution_count": null,
   "metadata": {},
   "outputs": [],
   "source": []
  },
  {
   "cell_type": "code",
   "execution_count": null,
   "metadata": {},
   "outputs": [],
   "source": []
  },
  {
   "cell_type": "code",
   "execution_count": 4,
   "metadata": {},
   "outputs": [],
   "source": [
    "new_embeddings = tf.constant([[10,10, 10 ], [20, 20, 20 ], [30, 30, 30 ], [40,40, 40 ]], tf.float32)\n",
    "new_labels = tf.constant([0, 0, 1, 1], tf.int32)\n",
    "class_num = 2"
   ]
  },
  {
   "cell_type": "code",
   "execution_count": null,
   "metadata": {},
   "outputs": [],
   "source": [
    "def get_loss_from_prototypes(embeddings, labels, prototypes, class_num):\n",
    "\tclass_ids = list(range(class_num))\n",
    "\tclass_ids = tf.reshape(tf.constant(class_ids), shape=(len(class_ids), 1))\n",
    "\n",
    "\tindice = tf.equal(labels, class_ids)\n",
    "\n",
    "\tloss = tf.map_fn(lambda x : tf.reduce_sum( tf.pow(x[0] \n",
    "                                                    - tf.squeeze(tf.gather(embeddings, tf.where(x[1])), axis=1), 2) ), (prototypes, indice), dtype=embeddings.dtype)\n",
    "\treturn loss"
   ]
  },
  {
   "cell_type": "code",
   "execution_count": 5,
   "metadata": {},
   "outputs": [
    {
     "name": "stdout",
     "output_type": "stream",
     "text": [
      "tf.Tensor(\n",
      "[[ True  True False False]\n",
      " [False False  True  True]], shape=(2, 4), dtype=bool)\n"
     ]
    }
   ],
   "source": [
    "class_ids = list(range(class_num))\n",
    "class_ids = tf.reshape(tf.constant(class_ids), shape=(len(class_ids), 1))\n",
    "indice = tf.equal(new_labels, class_ids)\n",
    "print(indice)"
   ]
  },
  {
   "cell_type": "code",
   "execution_count": 6,
   "metadata": {},
   "outputs": [],
   "source": [
    "prototype = tf.constant([[0, 0 , 0 ], [0,0,0]], tf.float32)"
   ]
  },
  {
   "cell_type": "code",
   "execution_count": 7,
   "metadata": {},
   "outputs": [],
   "source": [
    "minus = prototype[1] - tf.squeeze( tf.gather(new_embeddings, tf.where(indice[1])), axis=1 )"
   ]
  },
  {
   "cell_type": "code",
   "execution_count": 8,
   "metadata": {},
   "outputs": [
    {
     "data": {
      "text/plain": [
       "<tf.Tensor: id=21, shape=(2, 3), dtype=float32, numpy=\n",
       "array([[-30., -30., -30.],\n",
       "       [-40., -40., -40.]], dtype=float32)>"
      ]
     },
     "execution_count": 8,
     "metadata": {},
     "output_type": "execute_result"
    }
   ],
   "source": [
    "minus"
   ]
  },
  {
   "cell_type": "code",
   "execution_count": 9,
   "metadata": {},
   "outputs": [],
   "source": [
    "squared_l2_distance = tf.pow(minus, 2)"
   ]
  },
  {
   "cell_type": "code",
   "execution_count": 10,
   "metadata": {},
   "outputs": [
    {
     "data": {
      "text/plain": [
       "<tf.Tensor: id=24, shape=(2, 3), dtype=float32, numpy=\n",
       "array([[ 899.99994,  899.99994,  899.99994],\n",
       "       [1600.     , 1600.     , 1600.     ]], dtype=float32)>"
      ]
     },
     "execution_count": 10,
     "metadata": {},
     "output_type": "execute_result"
    }
   ],
   "source": [
    "squared_l2_distance"
   ]
  },
  {
   "cell_type": "code",
   "execution_count": 11,
   "metadata": {},
   "outputs": [
    {
     "name": "stdout",
     "output_type": "stream",
     "text": [
      "tf.Tensor([2699.9998 4800.    ], shape=(2,), dtype=float32)\n"
     ]
    }
   ],
   "source": [
    "loss = tf.reduce_sum(squared_l2_distance, axis=1)\n",
    "print(loss)"
   ]
  },
  {
   "cell_type": "code",
   "execution_count": null,
   "metadata": {},
   "outputs": [],
   "source": [
    "loss = get_loss_from_prototypes(new_embeddings, new_labels, prototype, class_num)"
   ]
  },
  {
   "cell_type": "code",
   "execution_count": null,
   "metadata": {},
   "outputs": [],
   "source": [
    "sess = tf.Session()"
   ]
  },
  {
   "cell_type": "code",
   "execution_count": null,
   "metadata": {},
   "outputs": [],
   "source": [
    "sess.run(loss)"
   ]
  },
  {
   "cell_type": "code",
   "execution_count": null,
   "metadata": {},
   "outputs": [],
   "source": [
    "grad = tf.gradients([loss], [new_embeddings])"
   ]
  },
  {
   "cell_type": "code",
   "execution_count": null,
   "metadata": {},
   "outputs": [],
   "source": [
    "print(sess.run(grad))"
   ]
  },
  {
   "cell_type": "code",
   "execution_count": null,
   "metadata": {},
   "outputs": [],
   "source": []
  },
  {
   "cell_type": "code",
   "execution_count": null,
   "metadata": {},
   "outputs": [],
   "source": []
  },
  {
   "cell_type": "code",
   "execution_count": null,
   "metadata": {},
   "outputs": [],
   "source": [
    "a = tf.constant( [1, 2], tf.float32 )\n",
    "b = tf.constant( [7, 5], tf.float32 )\n",
    "\n",
    "c = a*b"
   ]
  },
  {
   "cell_type": "code",
   "execution_count": null,
   "metadata": {},
   "outputs": [],
   "source": [
    "print(c)"
   ]
  },
  {
   "cell_type": "code",
   "execution_count": null,
   "metadata": {},
   "outputs": [],
   "source": [
    "sess = tf.Session()\n",
    "grad = tf.gradients([c], [a])"
   ]
  },
  {
   "cell_type": "code",
   "execution_count": null,
   "metadata": {},
   "outputs": [],
   "source": [
    "print(sess.run(grad))"
   ]
  },
  {
   "cell_type": "code",
   "execution_count": null,
   "metadata": {},
   "outputs": [],
   "source": []
  }
 ],
 "metadata": {
  "kernelspec": {
   "display_name": "p3tf",
   "language": "python",
   "name": "p3tf"
  },
  "language_info": {
   "codemirror_mode": {
    "name": "ipython",
    "version": 3
   },
   "file_extension": ".py",
   "mimetype": "text/x-python",
   "name": "python",
   "nbconvert_exporter": "python",
   "pygments_lexer": "ipython3",
   "version": "3.6.7"
  }
 },
 "nbformat": 4,
 "nbformat_minor": 2
}
