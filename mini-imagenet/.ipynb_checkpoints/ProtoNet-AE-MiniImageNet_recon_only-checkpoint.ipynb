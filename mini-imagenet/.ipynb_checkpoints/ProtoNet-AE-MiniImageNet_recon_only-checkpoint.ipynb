{
 "cells": [
  {
   "cell_type": "code",
   "execution_count": 1,
   "metadata": {},
   "outputs": [],
   "source": [
    "%matplotlib inline\n",
    "from __future__ import print_function\n",
    "from PIL import Image\n",
    "import numpy as np\n",
    "import tensorflow as tf\n",
    "import os\n",
    "import glob\n",
    "import matplotlib.pyplot as plt"
   ]
  },
  {
   "cell_type": "code",
   "execution_count": 2,
   "metadata": {},
   "outputs": [],
   "source": [
    "def conv_block(inputs, out_channels, kernel_size=3, strides=2, padding='SAME', name='conv'):\n",
    "    with tf.variable_scope(name):\n",
    "        conv = tf.layers.conv2d(inputs, out_channels, kernel_size=kernel_size, strides=strides, padding=padding)\n",
    "        conv = tf.contrib.layers.batch_norm(conv, updates_collections=None, decay=0.99, scale=True, center=True)\n",
    "        conv = tf.nn.relu(conv)\n",
    "        #conv = tf.contrib.layers.max_pool2d(conv, 2)\n",
    "        return conv"
   ]
  },
  {
   "cell_type": "code",
   "execution_count": 3,
   "metadata": {},
   "outputs": [],
   "source": [
    "def encoder(x, h_dim, z_dim, reuse=False):\n",
    "    with tf.variable_scope('encoder', reuse=reuse):\n",
    "        net = conv_block(x, h_dim, kernel_size=3, strides=2, padding='SAME', name='conv_1') # 42x42\n",
    "        net = conv_block(net, h_dim, kernel_size=3, strides=2, padding='SAME', name='conv_2') # 21x21\n",
    "        net = conv_block(net, h_dim,  kernel_size=3, strides=2, padding='VALID', name='conv_3') # 10x10\n",
    "        net = conv_block(net, z_dim, name='conv_4') # 5x5\n",
    "        net = tf.contrib.layers.flatten(net)\n",
    "        return net"
   ]
  },
  {
   "cell_type": "code",
   "execution_count": 4,
   "metadata": {},
   "outputs": [],
   "source": [
    "def deconv_block(inputs, out_channels, size=3, stride=2, padding='SAME', name='deconv'):\n",
    "    with tf.variable_scope(name):\n",
    "        conv = tf.layers.conv2d_transpose(inputs, out_channels, kernel_size=size, strides=stride, padding=padding)\n",
    "        conv = tf.contrib.layers.batch_norm(conv, updates_collections=None, decay=0.99, scale=True, center=True)\n",
    "        conv = tf.nn.relu(conv)\n",
    "        return conv"
   ]
  },
  {
   "cell_type": "code",
   "execution_count": 5,
   "metadata": {},
   "outputs": [],
   "source": [
    "def decoder(x, h_dim, z_dim, reuse=False):\n",
    "    with tf.variable_scope('decoder', reuse=reuse):\n",
    "        net = tf.layers.dense(x, 5 * 5 * 64)\n",
    "        net = tf.reshape(net, [-1, 5, 5, 64])\n",
    "        net = deconv_block(net, h_dim, size=4, stride=2, padding='SAME', name='deconv_1') # 10x10\n",
    "        net = deconv_block(net, h_dim, size=3, stride=2, padding='VALID', name='deconv_2') # 21x21\n",
    "        net = deconv_block(net, h_dim, size=4, stride=2, padding='SAME', name='deconv_3') # 42x42\n",
    "        net = deconv_block(net, h_dim, size=4, stride=2, padding='SAME', name='deconv_4') # 84x84\n",
    "        net = tf.layers.conv2d(net, 3, 3, padding='SAME')\n",
    "        print(net.shape)\n",
    "        net = tf.nn.tanh(net)\n",
    "        return net"
   ]
  },
  {
   "cell_type": "code",
   "execution_count": null,
   "metadata": {},
   "outputs": [],
   "source": []
  },
  {
   "cell_type": "code",
   "execution_count": 6,
   "metadata": {},
   "outputs": [],
   "source": [
    "def euclidean_distance(a, b):\n",
    "    # a.shape = N x D\n",
    "    # b.shape = M x D\n",
    "    N, D = tf.shape(a)[0], tf.shape(a)[1]\n",
    "    M = tf.shape(b)[0]\n",
    "    a = tf.tile(tf.expand_dims(a, axis=1), (1, M, 1))\n",
    "    b = tf.tile(tf.expand_dims(b, axis=0), (N, 1, 1))\n",
    "    return tf.reduce_mean(tf.square(a - b), axis=2)"
   ]
  },
  {
   "cell_type": "code",
   "execution_count": 7,
   "metadata": {},
   "outputs": [],
   "source": [
    "n_epochs = 100\n",
    "n_episodes = 100\n",
    "n_way = 20\n",
    "n_shot = 5\n",
    "n_query = 15\n",
    "n_examples = 350\n",
    "im_width, im_height, channels = 84, 84, 3\n",
    "h_dim = 64\n",
    "z_dim = 64"
   ]
  },
  {
   "cell_type": "code",
   "execution_count": 8,
   "metadata": {},
   "outputs": [
    {
     "name": "stdout",
     "output_type": "stream",
     "text": [
      "(64, 350, 84, 84, 3)\n"
     ]
    }
   ],
   "source": [
    "# Load Train Dataset\n",
    "train_dataset = np.load('mini-imagenet-train.npy')\n",
    "n_classes = train_dataset.shape[0]\n",
    "print(train_dataset.shape)"
   ]
  },
  {
   "cell_type": "code",
   "execution_count": 9,
   "metadata": {},
   "outputs": [
    {
     "name": "stdout",
     "output_type": "stream",
     "text": [
      "(?, 84, 84, 3)\n"
     ]
    }
   ],
   "source": [
    "x = tf.placeholder(tf.float32, [None, None, im_height, im_width, channels])\n",
    "q = tf.placeholder(tf.float32, [None, None, im_height, im_width, channels])\n",
    "x_shape = tf.shape(x)\n",
    "q_shape = tf.shape(q)\n",
    "num_classes, num_support = x_shape[0], x_shape[1]\n",
    "num_queries = q_shape[1]\n",
    "y = tf.placeholder(tf.int64, [None, None])\n",
    "y_one_hot = tf.one_hot(y, depth=num_classes)\n",
    "emb_in = encoder(tf.reshape(x, [num_classes * num_support, im_height, im_width, channels]), h_dim, z_dim)\n",
    "emb_dim = tf.shape(emb_in)[-1]\n",
    "emb_x = tf.reduce_mean(tf.reshape(emb_in, [num_classes, num_support, emb_dim]), axis=1)\n",
    "emb_q = encoder(tf.reshape(q, [num_classes * num_queries, im_height, im_width, channels]), h_dim, z_dim, reuse=True)\n",
    "\n",
    "q_hat = decoder(emb_q, h_dim, z_dim)\n",
    "q_label = tf.reshape(q, [num_classes * num_queries, im_height, im_width, channels])\n",
    "recon_loss = tf.reduce_mean(tf.square(q_label-q_hat))\n",
    "\n",
    "dists = euclidean_distance(emb_q, emb_x)\n",
    "log_p_y = tf.reshape(tf.nn.log_softmax(-dists), [num_classes, num_queries, -1])\n",
    "ce_loss = -tf.reduce_mean(tf.reshape(tf.reduce_sum(tf.multiply(y_one_hot, log_p_y), axis=-1), [-1]))\n",
    "acc = tf.reduce_mean(tf.to_float(tf.equal(tf.argmax(log_p_y, axis=-1), y)))"
   ]
  },
  {
   "cell_type": "code",
   "execution_count": 10,
   "metadata": {},
   "outputs": [],
   "source": [
    "train_op = tf.train.AdamOptimizer().minimize(recon_loss)"
   ]
  },
  {
   "cell_type": "code",
   "execution_count": 11,
   "metadata": {},
   "outputs": [],
   "source": [
    "sess = tf.InteractiveSession()\n",
    "init_op = tf.global_variables_initializer()\n",
    "sess.run(init_op)"
   ]
  },
  {
   "cell_type": "code",
   "execution_count": 12,
   "metadata": {},
   "outputs": [
    {
     "name": "stdout",
     "output_type": "stream",
     "text": [
      "[epoch 1/100, episode 50/100] => loss: 2.87538, acc: 0.18000\n",
      "[epoch 1/100, episode 100/100] => loss: 2.80580, acc: 0.20333\n",
      "[epoch 2/100, episode 50/100] => loss: 2.91941, acc: 0.15333\n",
      "[epoch 2/100, episode 100/100] => loss: 2.87664, acc: 0.18333\n",
      "[epoch 3/100, episode 50/100] => loss: 2.83011, acc: 0.16333\n",
      "[epoch 3/100, episode 100/100] => loss: 2.77928, acc: 0.22000\n",
      "[epoch 4/100, episode 50/100] => loss: 2.83629, acc: 0.20333\n",
      "[epoch 4/100, episode 100/100] => loss: 2.88409, acc: 0.21333\n",
      "[epoch 5/100, episode 50/100] => loss: 2.82763, acc: 0.19333\n",
      "[epoch 5/100, episode 100/100] => loss: 2.77995, acc: 0.16000\n",
      "[epoch 6/100, episode 50/100] => loss: 2.81266, acc: 0.21333\n",
      "[epoch 6/100, episode 100/100] => loss: 2.91914, acc: 0.22333\n",
      "[epoch 7/100, episode 50/100] => loss: 2.79103, acc: 0.19000\n",
      "[epoch 7/100, episode 100/100] => loss: 2.81104, acc: 0.20333\n",
      "[epoch 8/100, episode 50/100] => loss: 2.80727, acc: 0.17667\n",
      "[epoch 8/100, episode 100/100] => loss: 2.77536, acc: 0.20667\n",
      "[epoch 9/100, episode 50/100] => loss: 2.83388, acc: 0.20333\n",
      "[epoch 9/100, episode 100/100] => loss: 2.80279, acc: 0.21667\n",
      "[epoch 10/100, episode 50/100] => loss: 2.85211, acc: 0.18667\n",
      "[epoch 10/100, episode 100/100] => loss: 2.79582, acc: 0.20333\n",
      "[epoch 11/100, episode 50/100] => loss: 2.84432, acc: 0.19333\n",
      "[epoch 11/100, episode 100/100] => loss: 2.83460, acc: 0.18333\n",
      "[epoch 12/100, episode 50/100] => loss: 2.80746, acc: 0.19667\n",
      "[epoch 12/100, episode 100/100] => loss: 2.78411, acc: 0.19667\n",
      "[epoch 13/100, episode 50/100] => loss: 2.72528, acc: 0.21667\n",
      "[epoch 13/100, episode 100/100] => loss: 2.75538, acc: 0.17667\n",
      "[epoch 14/100, episode 50/100] => loss: 2.86349, acc: 0.16333\n",
      "[epoch 14/100, episode 100/100] => loss: 2.79041, acc: 0.21000\n",
      "[epoch 15/100, episode 50/100] => loss: 2.87480, acc: 0.14667\n",
      "[epoch 15/100, episode 100/100] => loss: 2.86908, acc: 0.24667\n",
      "[epoch 16/100, episode 50/100] => loss: 2.81819, acc: 0.15333\n",
      "[epoch 16/100, episode 100/100] => loss: 2.75582, acc: 0.21000\n",
      "[epoch 17/100, episode 50/100] => loss: 2.72687, acc: 0.16000\n",
      "[epoch 17/100, episode 100/100] => loss: 2.84722, acc: 0.19000\n",
      "[epoch 18/100, episode 50/100] => loss: 2.83980, acc: 0.20667\n",
      "[epoch 18/100, episode 100/100] => loss: 2.77673, acc: 0.24333\n",
      "[epoch 19/100, episode 50/100] => loss: 2.80010, acc: 0.15667\n",
      "[epoch 19/100, episode 100/100] => loss: 2.76896, acc: 0.17667\n",
      "[epoch 20/100, episode 50/100] => loss: 2.68876, acc: 0.21333\n",
      "[epoch 20/100, episode 100/100] => loss: 2.67839, acc: 0.20333\n",
      "[epoch 21/100, episode 50/100] => loss: 2.69164, acc: 0.14667\n",
      "[epoch 21/100, episode 100/100] => loss: 2.67938, acc: 0.19667\n",
      "[epoch 22/100, episode 50/100] => loss: 2.68164, acc: 0.19667\n",
      "[epoch 22/100, episode 100/100] => loss: 2.69180, acc: 0.15333\n",
      "[epoch 23/100, episode 50/100] => loss: 2.68339, acc: 0.13667\n",
      "[epoch 23/100, episode 100/100] => loss: 2.68264, acc: 0.22667\n",
      "[epoch 24/100, episode 50/100] => loss: 2.67758, acc: 0.20333\n",
      "[epoch 24/100, episode 100/100] => loss: 2.67168, acc: 0.21667\n",
      "[epoch 25/100, episode 50/100] => loss: 2.67111, acc: 0.20667\n",
      "[epoch 25/100, episode 100/100] => loss: 2.67617, acc: 0.19000\n",
      "[epoch 26/100, episode 50/100] => loss: 2.68528, acc: 0.16333\n",
      "[epoch 26/100, episode 100/100] => loss: 2.67508, acc: 0.21333\n",
      "[epoch 27/100, episode 50/100] => loss: 2.71048, acc: 0.17000\n",
      "[epoch 27/100, episode 100/100] => loss: 2.69408, acc: 0.18667\n",
      "[epoch 28/100, episode 50/100] => loss: 2.68303, acc: 0.15000\n",
      "[epoch 28/100, episode 100/100] => loss: 2.67435, acc: 0.19667\n",
      "[epoch 29/100, episode 50/100] => loss: 2.67838, acc: 0.13667\n",
      "[epoch 29/100, episode 100/100] => loss: 2.68274, acc: 0.21667\n",
      "[epoch 30/100, episode 50/100] => loss: 2.67531, acc: 0.16667\n",
      "[epoch 30/100, episode 100/100] => loss: 2.71767, acc: 0.22000\n",
      "[epoch 31/100, episode 50/100] => loss: 2.70810, acc: 0.17000\n",
      "[epoch 31/100, episode 100/100] => loss: 2.68417, acc: 0.20667\n",
      "[epoch 32/100, episode 50/100] => loss: 2.67031, acc: 0.15333\n",
      "[epoch 32/100, episode 100/100] => loss: 2.68941, acc: 0.15667\n",
      "[epoch 33/100, episode 50/100] => loss: 2.66694, acc: 0.15000\n",
      "[epoch 33/100, episode 100/100] => loss: 2.68086, acc: 0.15333\n",
      "[epoch 34/100, episode 50/100] => loss: 2.67408, acc: 0.14333\n",
      "[epoch 34/100, episode 100/100] => loss: 2.66896, acc: 0.21667\n",
      "[epoch 35/100, episode 50/100] => loss: 2.70058, acc: 0.19000\n",
      "[epoch 35/100, episode 100/100] => loss: 2.69018, acc: 0.18333\n",
      "[epoch 36/100, episode 50/100] => loss: 2.68417, acc: 0.17000\n",
      "[epoch 36/100, episode 100/100] => loss: 2.66391, acc: 0.20000\n",
      "[epoch 37/100, episode 50/100] => loss: 2.68236, acc: 0.22000\n",
      "[epoch 37/100, episode 100/100] => loss: 2.69506, acc: 0.22333\n",
      "[epoch 38/100, episode 50/100] => loss: 2.68205, acc: 0.18000\n",
      "[epoch 38/100, episode 100/100] => loss: 2.67906, acc: 0.18667\n",
      "[epoch 39/100, episode 50/100] => loss: 2.66919, acc: 0.22000\n",
      "[epoch 39/100, episode 100/100] => loss: 2.65738, acc: 0.22667\n",
      "[epoch 40/100, episode 50/100] => loss: 2.68507, acc: 0.15000\n",
      "[epoch 40/100, episode 100/100] => loss: 2.67879, acc: 0.18000\n",
      "[epoch 41/100, episode 50/100] => loss: 2.66985, acc: 0.18333\n",
      "[epoch 41/100, episode 100/100] => loss: 2.70399, acc: 0.17333\n",
      "[epoch 42/100, episode 50/100] => loss: 2.67545, acc: 0.15333\n",
      "[epoch 42/100, episode 100/100] => loss: 2.67337, acc: 0.13333\n",
      "[epoch 43/100, episode 50/100] => loss: 2.67177, acc: 0.16000\n",
      "[epoch 43/100, episode 100/100] => loss: 2.67149, acc: 0.20000\n",
      "[epoch 44/100, episode 50/100] => loss: 2.69426, acc: 0.14667\n",
      "[epoch 44/100, episode 100/100] => loss: 2.66468, acc: 0.19000\n",
      "[epoch 45/100, episode 50/100] => loss: 2.67947, acc: 0.14333\n",
      "[epoch 45/100, episode 100/100] => loss: 2.66722, acc: 0.20333\n",
      "[epoch 46/100, episode 50/100] => loss: 2.66971, acc: 0.15333\n",
      "[epoch 46/100, episode 100/100] => loss: 2.63182, acc: 0.16333\n",
      "[epoch 47/100, episode 50/100] => loss: 2.64256, acc: 0.16333\n",
      "[epoch 47/100, episode 100/100] => loss: 2.62508, acc: 0.13333\n",
      "[epoch 48/100, episode 50/100] => loss: 2.65025, acc: 0.16333\n",
      "[epoch 48/100, episode 100/100] => loss: 2.64896, acc: 0.16333\n",
      "[epoch 49/100, episode 50/100] => loss: 2.63377, acc: 0.18667\n",
      "[epoch 49/100, episode 100/100] => loss: 2.64532, acc: 0.14333\n",
      "[epoch 50/100, episode 50/100] => loss: 2.62050, acc: 0.12667\n",
      "[epoch 50/100, episode 100/100] => loss: 2.65175, acc: 0.18333\n",
      "[epoch 51/100, episode 50/100] => loss: 2.61760, acc: 0.14333\n",
      "[epoch 51/100, episode 100/100] => loss: 2.63542, acc: 0.15667\n",
      "[epoch 52/100, episode 50/100] => loss: 2.62602, acc: 0.17667\n",
      "[epoch 52/100, episode 100/100] => loss: 2.64225, acc: 0.16667\n",
      "[epoch 53/100, episode 50/100] => loss: 2.69732, acc: 0.14333\n",
      "[epoch 53/100, episode 100/100] => loss: 2.63270, acc: 0.14000\n",
      "[epoch 54/100, episode 50/100] => loss: 2.64898, acc: 0.11667\n",
      "[epoch 54/100, episode 100/100] => loss: 2.68982, acc: 0.12667\n",
      "[epoch 55/100, episode 50/100] => loss: 2.65335, acc: 0.12667\n",
      "[epoch 55/100, episode 100/100] => loss: 2.69130, acc: 0.15667\n",
      "[epoch 56/100, episode 50/100] => loss: 2.65497, acc: 0.15667\n",
      "[epoch 56/100, episode 100/100] => loss: 2.65255, acc: 0.19000\n",
      "[epoch 57/100, episode 50/100] => loss: 2.66506, acc: 0.17667\n",
      "[epoch 57/100, episode 100/100] => loss: 2.69257, acc: 0.18333\n",
      "[epoch 58/100, episode 50/100] => loss: 2.69971, acc: 0.11000\n",
      "[epoch 58/100, episode 100/100] => loss: 2.64682, acc: 0.18333\n",
      "[epoch 59/100, episode 50/100] => loss: 2.65880, acc: 0.14333\n",
      "[epoch 59/100, episode 100/100] => loss: 2.63326, acc: 0.16000\n",
      "[epoch 60/100, episode 50/100] => loss: 2.68028, acc: 0.19000\n",
      "[epoch 60/100, episode 100/100] => loss: 2.66112, acc: 0.13000\n",
      "[epoch 61/100, episode 50/100] => loss: 2.65961, acc: 0.13333\n",
      "[epoch 61/100, episode 100/100] => loss: 2.67340, acc: 0.14333\n",
      "[epoch 62/100, episode 50/100] => loss: 2.63905, acc: 0.14667\n",
      "[epoch 62/100, episode 100/100] => loss: 2.66056, acc: 0.14000\n",
      "[epoch 63/100, episode 50/100] => loss: 2.66024, acc: 0.14667\n",
      "[epoch 63/100, episode 100/100] => loss: 2.67059, acc: 0.14000\n",
      "[epoch 64/100, episode 50/100] => loss: 2.63421, acc: 0.13667\n",
      "[epoch 64/100, episode 100/100] => loss: 2.67863, acc: 0.14667\n",
      "[epoch 65/100, episode 50/100] => loss: 2.65732, acc: 0.16667\n",
      "[epoch 65/100, episode 100/100] => loss: 2.64567, acc: 0.22333\n",
      "[epoch 66/100, episode 50/100] => loss: 2.63790, acc: 0.15000\n",
      "[epoch 66/100, episode 100/100] => loss: 2.67106, acc: 0.18667\n"
     ]
    },
    {
     "name": "stdout",
     "output_type": "stream",
     "text": [
      "[epoch 67/100, episode 50/100] => loss: 2.62933, acc: 0.16333\n",
      "[epoch 67/100, episode 100/100] => loss: 2.65602, acc: 0.13667\n",
      "[epoch 68/100, episode 50/100] => loss: 2.67698, acc: 0.13667\n",
      "[epoch 68/100, episode 100/100] => loss: 2.62337, acc: 0.14000\n",
      "[epoch 69/100, episode 50/100] => loss: 2.64736, acc: 0.11333\n",
      "[epoch 69/100, episode 100/100] => loss: 2.63081, acc: 0.14000\n",
      "[epoch 70/100, episode 50/100] => loss: 2.67625, acc: 0.15333\n",
      "[epoch 70/100, episode 100/100] => loss: 2.64722, acc: 0.18333\n",
      "[epoch 71/100, episode 50/100] => loss: 2.67174, acc: 0.16333\n",
      "[epoch 71/100, episode 100/100] => loss: 2.67596, acc: 0.14667\n",
      "[epoch 72/100, episode 50/100] => loss: 2.67198, acc: 0.15333\n",
      "[epoch 72/100, episode 100/100] => loss: 2.66045, acc: 0.14000\n",
      "[epoch 73/100, episode 50/100] => loss: 2.65947, acc: 0.17000\n",
      "[epoch 73/100, episode 100/100] => loss: 2.64615, acc: 0.18000\n",
      "[epoch 74/100, episode 50/100] => loss: 2.68211, acc: 0.17667\n",
      "[epoch 74/100, episode 100/100] => loss: 2.66241, acc: 0.15667\n",
      "[epoch 75/100, episode 50/100] => loss: 2.68414, acc: 0.16667\n",
      "[epoch 75/100, episode 100/100] => loss: 2.63245, acc: 0.11333\n",
      "[epoch 76/100, episode 50/100] => loss: 2.63093, acc: 0.16000\n",
      "[epoch 76/100, episode 100/100] => loss: 2.65272, acc: 0.13000\n",
      "[epoch 77/100, episode 50/100] => loss: 2.65470, acc: 0.18000\n",
      "[epoch 77/100, episode 100/100] => loss: 2.63316, acc: 0.14000\n",
      "[epoch 78/100, episode 50/100] => loss: 2.64791, acc: 0.14000\n",
      "[epoch 78/100, episode 100/100] => loss: 2.69364, acc: 0.15000\n",
      "[epoch 79/100, episode 50/100] => loss: 2.66538, acc: 0.16333\n",
      "[epoch 79/100, episode 100/100] => loss: 2.66599, acc: 0.15333\n",
      "[epoch 80/100, episode 50/100] => loss: 2.68675, acc: 0.17000\n",
      "[epoch 80/100, episode 100/100] => loss: 2.66036, acc: 0.14667\n",
      "[epoch 81/100, episode 50/100] => loss: 2.66334, acc: 0.17333\n",
      "[epoch 81/100, episode 100/100] => loss: 2.67598, acc: 0.14333\n",
      "[epoch 82/100, episode 50/100] => loss: 2.67933, acc: 0.15333\n",
      "[epoch 82/100, episode 100/100] => loss: 2.69832, acc: 0.15333\n",
      "[epoch 83/100, episode 50/100] => loss: 2.69773, acc: 0.15000\n",
      "[epoch 83/100, episode 100/100] => loss: 2.67551, acc: 0.16000\n",
      "[epoch 84/100, episode 50/100] => loss: 2.70813, acc: 0.16000\n",
      "[epoch 84/100, episode 100/100] => loss: 2.66827, acc: 0.13667\n",
      "[epoch 85/100, episode 50/100] => loss: 2.72556, acc: 0.11333\n",
      "[epoch 85/100, episode 100/100] => loss: 2.68630, acc: 0.11667\n",
      "[epoch 86/100, episode 50/100] => loss: 2.67784, acc: 0.12667\n",
      "[epoch 86/100, episode 100/100] => loss: 2.67961, acc: 0.10667\n",
      "[epoch 87/100, episode 50/100] => loss: 2.72639, acc: 0.12667\n",
      "[epoch 87/100, episode 100/100] => loss: 2.67747, acc: 0.10333\n",
      "[epoch 88/100, episode 50/100] => loss: 2.68950, acc: 0.13667\n",
      "[epoch 88/100, episode 100/100] => loss: 2.71142, acc: 0.17333\n",
      "[epoch 89/100, episode 50/100] => loss: 2.70852, acc: 0.13000\n",
      "[epoch 89/100, episode 100/100] => loss: 2.67088, acc: 0.15333\n",
      "[epoch 90/100, episode 50/100] => loss: 2.67417, acc: 0.19333\n",
      "[epoch 90/100, episode 100/100] => loss: 2.69551, acc: 0.13333\n",
      "[epoch 91/100, episode 50/100] => loss: 2.70274, acc: 0.14667\n",
      "[epoch 91/100, episode 100/100] => loss: 2.68178, acc: 0.17333\n",
      "[epoch 92/100, episode 50/100] => loss: 2.71969, acc: 0.12333\n",
      "[epoch 92/100, episode 100/100] => loss: 2.67447, acc: 0.14333\n",
      "[epoch 93/100, episode 50/100] => loss: 2.67006, acc: 0.14667\n",
      "[epoch 93/100, episode 100/100] => loss: 2.65818, acc: 0.18000\n",
      "[epoch 94/100, episode 50/100] => loss: 2.71642, acc: 0.15333\n",
      "[epoch 94/100, episode 100/100] => loss: 2.69476, acc: 0.16000\n",
      "[epoch 95/100, episode 50/100] => loss: 2.66175, acc: 0.13333\n",
      "[epoch 95/100, episode 100/100] => loss: 2.73241, acc: 0.12667\n",
      "[epoch 96/100, episode 50/100] => loss: 2.70920, acc: 0.13000\n",
      "[epoch 96/100, episode 100/100] => loss: 2.71401, acc: 0.14333\n",
      "[epoch 97/100, episode 50/100] => loss: 2.68080, acc: 0.17667\n",
      "[epoch 97/100, episode 100/100] => loss: 2.66353, acc: 0.11000\n",
      "[epoch 98/100, episode 50/100] => loss: 2.68605, acc: 0.14000\n",
      "[epoch 98/100, episode 100/100] => loss: 2.70497, acc: 0.13000\n",
      "[epoch 99/100, episode 50/100] => loss: 2.67151, acc: 0.14000\n",
      "[epoch 99/100, episode 100/100] => loss: 2.72084, acc: 0.17333\n",
      "[epoch 100/100, episode 50/100] => loss: 2.67461, acc: 0.10667\n",
      "[epoch 100/100, episode 100/100] => loss: 2.71833, acc: 0.13000\n"
     ]
    }
   ],
   "source": [
    "for ep in range(n_epochs):\n",
    "    for epi in range(n_episodes):\n",
    "        epi_classes = np.random.permutation(n_classes)[:n_way]\n",
    "        support = np.zeros([n_way, n_shot, im_height, im_width, channels], dtype=np.float32)\n",
    "        query = np.zeros([n_way, n_query, im_height, im_width, channels], dtype=np.float32)\n",
    "        for i, epi_cls in enumerate(epi_classes):\n",
    "            selected = np.random.permutation(n_examples)[:n_shot + n_query]\n",
    "            support[i] = train_dataset[epi_cls, selected[:n_shot]]\n",
    "            query[i] = train_dataset[epi_cls, selected[n_shot:]]\n",
    "        # support = np.expand_dims(support, axis=-1)\n",
    "        # query = np.expand_dims(query, axis=-1)\n",
    "        labels = np.tile(np.arange(n_way)[:, np.newaxis], (1, n_query)).astype(np.uint8)\n",
    "        _, ls, ac = sess.run([train_op, ce_loss, acc], feed_dict={x: support, q: query, y:labels})\n",
    "        if (epi+1) % 50 == 0:\n",
    "            print('[epoch {}/{}, episode {}/{}] => loss: {:.5f}, acc: {:.5f}'.format(ep+1, n_epochs, epi+1, n_episodes, ls, ac))"
   ]
  },
  {
   "cell_type": "code",
   "execution_count": 13,
   "metadata": {},
   "outputs": [
    {
     "name": "stdout",
     "output_type": "stream",
     "text": [
      "(20, 350, 84, 84, 3)\n"
     ]
    }
   ],
   "source": [
    "# Load Test Dataset\n",
    "test_dataset = np.load('mini-imagenet-test.npy')\n",
    "n_test_classes = test_dataset.shape[0]\n",
    "print(test_dataset.shape)"
   ]
  },
  {
   "cell_type": "code",
   "execution_count": 14,
   "metadata": {},
   "outputs": [],
   "source": [
    "n_test_episodes = 600\n",
    "n_test_way = 5\n",
    "n_test_shot = 5\n",
    "n_test_query = 15"
   ]
  },
  {
   "cell_type": "code",
   "execution_count": 16,
   "metadata": {},
   "outputs": [
    {
     "name": "stdout",
     "output_type": "stream",
     "text": [
      "Testing...\n",
      "[test episode 50/600] => loss: 1.54081, acc: 0.34667\n",
      "[test episode 100/600] => loss: 1.36910, acc: 0.45333\n",
      "[test episode 150/600] => loss: 1.60627, acc: 0.34667\n",
      "[test episode 200/600] => loss: 1.32648, acc: 0.48000\n",
      "[test episode 250/600] => loss: 1.27687, acc: 0.49333\n",
      "[test episode 300/600] => loss: 1.27229, acc: 0.53333\n",
      "[test episode 350/600] => loss: 1.32279, acc: 0.40000\n",
      "[test episode 400/600] => loss: 1.61812, acc: 0.17333\n",
      "[test episode 450/600] => loss: 1.32900, acc: 0.42667\n",
      "[test episode 500/600] => loss: 1.59934, acc: 0.26667\n",
      "[test episode 550/600] => loss: 1.30165, acc: 0.48000\n",
      "[test episode 600/600] => loss: 1.26903, acc: 0.44000\n",
      "Average Test Accuracy: 0.42402\n"
     ]
    }
   ],
   "source": [
    "print('Testing...')\n",
    "avg_acc = 0.\n",
    "for epi in range(n_test_episodes):\n",
    "    epi_classes = np.random.permutation(n_test_classes)[:n_test_way]\n",
    "    support = np.zeros([n_test_way, n_test_shot, im_height, im_width, channels], dtype=np.float32)\n",
    "    query = np.zeros([n_test_way, n_test_query, im_height, im_width, channels], dtype=np.float32)\n",
    "    for i, epi_cls in enumerate(epi_classes):\n",
    "        selected = np.random.permutation(n_examples)[:n_test_shot + n_test_query]\n",
    "        support[i] = test_dataset[epi_cls, selected[:n_test_shot]]\n",
    "        query[i] = test_dataset[epi_cls, selected[n_test_shot:]]\n",
    "    # support = np.expand_dims(support, axis=-1)\n",
    "    # query = np.expand_dims(query, axis=-1)\n",
    "    labels = np.tile(np.arange(n_test_way)[:, np.newaxis], (1, n_test_query)).astype(np.uint8)\n",
    "    ls, ac = sess.run([ce_loss, acc], feed_dict={x: support, q: query, y:labels})\n",
    "    avg_acc += ac\n",
    "    if (epi+1) % 50 == 0:\n",
    "        print('[test episode {}/{}] => loss: {:.5f}, acc: {:.5f}'.format(epi+1, n_test_episodes, ls, ac))\n",
    "avg_acc /= n_test_episodes\n",
    "print('Average Test Accuracy: {:.5f}'.format(avg_acc))"
   ]
  },
  {
   "cell_type": "code",
   "execution_count": null,
   "metadata": {},
   "outputs": [],
   "source": []
  }
 ],
 "metadata": {
  "kernelspec": {
   "display_name": "tf",
   "language": "python",
   "name": "tf"
  },
  "language_info": {
   "codemirror_mode": {
    "name": "ipython",
    "version": 3
   },
   "file_extension": ".py",
   "mimetype": "text/x-python",
   "name": "python",
   "nbconvert_exporter": "python",
   "pygments_lexer": "ipython3",
   "version": "3.6.7"
  }
 },
 "nbformat": 4,
 "nbformat_minor": 2
}
