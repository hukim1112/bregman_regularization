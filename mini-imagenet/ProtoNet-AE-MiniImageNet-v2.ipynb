{
 "cells": [
  {
   "cell_type": "code",
   "execution_count": 1,
   "metadata": {},
   "outputs": [],
   "source": [
    "%matplotlib inline\n",
    "from __future__ import print_function\n",
    "from PIL import Image\n",
    "import numpy as np\n",
    "import tensorflow as tf\n",
    "import os\n",
    "import glob\n",
    "import matplotlib.pyplot as plt"
   ]
  },
  {
   "cell_type": "code",
   "execution_count": 2,
   "metadata": {},
   "outputs": [],
   "source": [
    "def conv_block(inputs, out_channels, kernel_size=3, strides=2, padding='SAME', name='conv'):\n",
    "    with tf.variable_scope(name):\n",
    "        conv = tf.layers.conv2d(inputs, out_channels, kernel_size=kernel_size, strides=strides, padding=padding)\n",
    "        conv = tf.contrib.layers.batch_norm(conv, updates_collections=None, decay=0.99, scale=True, center=True)\n",
    "        conv = tf.nn.relu(conv)\n",
    "        #conv = tf.contrib.layers.max_pool2d(conv, 2)\n",
    "        return conv"
   ]
  },
  {
   "cell_type": "code",
   "execution_count": 3,
   "metadata": {},
   "outputs": [],
   "source": [
    "def encoder(x, h_dim, z_dim, reuse=False):\n",
    "    with tf.variable_scope('encoder', reuse=reuse):\n",
    "        net = conv_block(x, h_dim, kernel_size=3, strides=2, padding='SAME', name='conv_1') # 42x42\n",
    "        net = conv_block(net, h_dim, kernel_size=3, strides=2, padding='SAME', name='conv_2') # 21x21\n",
    "        net = conv_block(net, h_dim,  kernel_size=3, strides=2, padding='VALID', name='conv_3') # 10x10\n",
    "        net = conv_block(net, z_dim, name='conv_4') # 5x5\n",
    "        net = tf.contrib.layers.flatten(net)\n",
    "        return net"
   ]
  },
  {
   "cell_type": "code",
   "execution_count": 4,
   "metadata": {},
   "outputs": [],
   "source": [
    "def deconv_block(inputs, out_channels, size=3, stride=2, padding='SAME', name='deconv'):\n",
    "    with tf.variable_scope(name):\n",
    "        conv = tf.layers.conv2d_transpose(inputs, out_channels, kernel_size=size, strides=stride, padding=padding)\n",
    "        conv = tf.contrib.layers.batch_norm(conv, updates_collections=None, decay=0.99, scale=True, center=True)\n",
    "        conv = tf.nn.relu(conv)\n",
    "        return conv"
   ]
  },
  {
   "cell_type": "code",
   "execution_count": 5,
   "metadata": {},
   "outputs": [],
   "source": [
    "def decoder(x, h_dim, z_dim, reuse=False):\n",
    "    with tf.variable_scope('decoder', reuse=reuse):\n",
    "        net = tf.layers.dense(x, 5 * 5 * 64)\n",
    "        net = tf.reshape(net, [-1, 5, 5, 64])\n",
    "        net = deconv_block(net, h_dim, size=4, stride=2, padding='SAME', name='deconv_1') # 10x10\n",
    "        net = deconv_block(net, h_dim, size=3, stride=2, padding='VALID', name='deconv_2') # 21x21\n",
    "        net = deconv_block(net, h_dim, size=4, stride=2, padding='SAME', name='deconv_3') # 42x42\n",
    "        net = deconv_block(net, h_dim, size=4, stride=2, padding='SAME', name='deconv_4') # 84x84\n",
    "        net = tf.layers.conv2d(net, 3, 3, padding='SAME')\n",
    "        print(net.shape)\n",
    "        net = tf.nn.tanh(net)\n",
    "        return net"
   ]
  },
  {
   "cell_type": "code",
   "execution_count": null,
   "metadata": {},
   "outputs": [],
   "source": []
  },
  {
   "cell_type": "code",
   "execution_count": 6,
   "metadata": {},
   "outputs": [],
   "source": [
    "def euclidean_distance(a, b):\n",
    "    # a.shape = N x D\n",
    "    # b.shape = M x D\n",
    "    N, D = tf.shape(a)[0], tf.shape(a)[1]\n",
    "    M = tf.shape(b)[0]\n",
    "    a = tf.tile(tf.expand_dims(a, axis=1), (1, M, 1))\n",
    "    b = tf.tile(tf.expand_dims(b, axis=0), (N, 1, 1))\n",
    "    return tf.reduce_mean(tf.square(a - b), axis=2)"
   ]
  },
  {
   "cell_type": "code",
   "execution_count": 7,
   "metadata": {},
   "outputs": [],
   "source": [
    "n_epochs = 100\n",
    "n_episodes = 100\n",
    "n_way = 20\n",
    "n_shot = 5\n",
    "n_query = 15\n",
    "n_examples = 350\n",
    "im_width, im_height, channels = 84, 84, 3\n",
    "h_dim = 64\n",
    "z_dim = 64"
   ]
  },
  {
   "cell_type": "code",
   "execution_count": 8,
   "metadata": {},
   "outputs": [
    {
     "name": "stdout",
     "output_type": "stream",
     "text": [
      "(64, 350, 84, 84, 3)\n"
     ]
    }
   ],
   "source": [
    "# Load Train Dataset\n",
    "train_dataset = np.load('mini-imagenet-train.npy')\n",
    "n_classes = train_dataset.shape[0]\n",
    "print(train_dataset.shape)"
   ]
  },
  {
   "cell_type": "code",
   "execution_count": 9,
   "metadata": {},
   "outputs": [
    {
     "name": "stdout",
     "output_type": "stream",
     "text": [
      "(?, 84, 84, 3)\n"
     ]
    }
   ],
   "source": [
    "x = tf.placeholder(tf.float32, [None, None, im_height, im_width, channels])\n",
    "q = tf.placeholder(tf.float32, [None, None, im_height, im_width, channels])\n",
    "x_shape = tf.shape(x)\n",
    "q_shape = tf.shape(q)\n",
    "num_classes, num_support = x_shape[0], x_shape[1]\n",
    "num_queries = q_shape[1]\n",
    "y = tf.placeholder(tf.int64, [None, None])\n",
    "y_one_hot = tf.one_hot(y, depth=num_classes)\n",
    "emb_in = encoder(tf.reshape(x, [num_classes * num_support, im_height, im_width, channels]), h_dim, z_dim)\n",
    "emb_dim = tf.shape(emb_in)[-1]\n",
    "emb_x = tf.reduce_mean(tf.reshape(emb_in, [num_classes, num_support, emb_dim]), axis=1)\n",
    "emb_q = encoder(tf.reshape(q, [num_classes * num_queries, im_height, im_width, channels]), h_dim, z_dim, reuse=True)\n",
    "\n",
    "q_hat = decoder(emb_q, h_dim, z_dim)\n",
    "q_label = tf.reshape(q, [num_classes * num_queries, im_height, im_width, channels])\n",
    "recon_loss = tf.reduce_mean(tf.square(q_label-q_hat))\n",
    "\n",
    "dists = euclidean_distance(emb_q, emb_x)\n",
    "log_p_y = tf.reshape(tf.nn.log_softmax(-dists), [num_classes, num_queries, -1])\n",
    "ce_loss = -tf.reduce_mean(tf.reshape(tf.reduce_sum(tf.multiply(y_one_hot, log_p_y), axis=-1), [-1]))\n",
    "acc = tf.reduce_mean(tf.to_float(tf.equal(tf.argmax(log_p_y, axis=-1), y)))"
   ]
  },
  {
   "cell_type": "code",
   "execution_count": 10,
   "metadata": {},
   "outputs": [],
   "source": [
    "train_op = tf.train.AdamOptimizer().minimize(ce_loss+recon_loss)"
   ]
  },
  {
   "cell_type": "code",
   "execution_count": 11,
   "metadata": {},
   "outputs": [],
   "source": [
    "sess = tf.InteractiveSession()\n",
    "init_op = tf.global_variables_initializer()\n",
    "sess.run(init_op)"
   ]
  },
  {
   "cell_type": "code",
   "execution_count": 12,
   "metadata": {},
   "outputs": [
    {
     "name": "stdout",
     "output_type": "stream",
     "text": [
      "[epoch 1/100, episode 50/100] => loss: 2.78017, acc: 0.21000\n",
      "[epoch 1/100, episode 100/100] => loss: 2.67847, acc: 0.18667\n",
      "[epoch 2/100, episode 50/100] => loss: 2.75918, acc: 0.15333\n",
      "[epoch 2/100, episode 100/100] => loss: 2.56399, acc: 0.23000\n",
      "[epoch 3/100, episode 50/100] => loss: 2.72149, acc: 0.26000\n",
      "[epoch 3/100, episode 100/100] => loss: 2.63347, acc: 0.19667\n",
      "[epoch 4/100, episode 50/100] => loss: 2.50564, acc: 0.18333\n",
      "[epoch 4/100, episode 100/100] => loss: 2.46438, acc: 0.20000\n",
      "[epoch 5/100, episode 50/100] => loss: 2.58558, acc: 0.22333\n",
      "[epoch 5/100, episode 100/100] => loss: 2.52959, acc: 0.18667\n",
      "[epoch 6/100, episode 50/100] => loss: 2.43113, acc: 0.22000\n",
      "[epoch 6/100, episode 100/100] => loss: 2.40348, acc: 0.20000\n",
      "[epoch 7/100, episode 50/100] => loss: 2.56218, acc: 0.26000\n",
      "[epoch 7/100, episode 100/100] => loss: 2.40252, acc: 0.18000\n",
      "[epoch 8/100, episode 50/100] => loss: 2.48335, acc: 0.23333\n",
      "[epoch 8/100, episode 100/100] => loss: 2.48831, acc: 0.25000\n",
      "[epoch 9/100, episode 50/100] => loss: 2.39601, acc: 0.26667\n",
      "[epoch 9/100, episode 100/100] => loss: 2.46689, acc: 0.20000\n",
      "[epoch 10/100, episode 50/100] => loss: 2.43930, acc: 0.19667\n",
      "[epoch 10/100, episode 100/100] => loss: 2.32459, acc: 0.25333\n",
      "[epoch 11/100, episode 50/100] => loss: 2.34812, acc: 0.17000\n",
      "[epoch 11/100, episode 100/100] => loss: 2.23308, acc: 0.21667\n",
      "[epoch 12/100, episode 50/100] => loss: 2.28703, acc: 0.21333\n",
      "[epoch 12/100, episode 100/100] => loss: 2.18305, acc: 0.26667\n",
      "[epoch 13/100, episode 50/100] => loss: 2.16802, acc: 0.20333\n",
      "[epoch 13/100, episode 100/100] => loss: 2.17909, acc: 0.22667\n",
      "[epoch 14/100, episode 50/100] => loss: 2.27144, acc: 0.17667\n",
      "[epoch 14/100, episode 100/100] => loss: 2.16857, acc: 0.24000\n",
      "[epoch 15/100, episode 50/100] => loss: 2.40931, acc: 0.20667\n",
      "[epoch 15/100, episode 100/100] => loss: 2.21921, acc: 0.23333\n",
      "[epoch 16/100, episode 50/100] => loss: 2.27248, acc: 0.22000\n",
      "[epoch 16/100, episode 100/100] => loss: 2.20060, acc: 0.25667\n",
      "[epoch 17/100, episode 50/100] => loss: 2.32284, acc: 0.21000\n",
      "[epoch 17/100, episode 100/100] => loss: 2.06497, acc: 0.31667\n",
      "[epoch 18/100, episode 50/100] => loss: 1.89810, acc: 0.32333\n",
      "[epoch 18/100, episode 100/100] => loss: 1.99233, acc: 0.28333\n",
      "[epoch 19/100, episode 50/100] => loss: 2.06786, acc: 0.25667\n",
      "[epoch 19/100, episode 100/100] => loss: 2.12325, acc: 0.24000\n",
      "[epoch 20/100, episode 50/100] => loss: 2.16232, acc: 0.25667\n",
      "[epoch 20/100, episode 100/100] => loss: 2.16447, acc: 0.27000\n",
      "[epoch 21/100, episode 50/100] => loss: 2.14192, acc: 0.32000\n",
      "[epoch 21/100, episode 100/100] => loss: 2.27199, acc: 0.26000\n",
      "[epoch 22/100, episode 50/100] => loss: 2.03839, acc: 0.23000\n",
      "[epoch 22/100, episode 100/100] => loss: 2.09753, acc: 0.24667\n",
      "[epoch 23/100, episode 50/100] => loss: 2.04817, acc: 0.27333\n",
      "[epoch 23/100, episode 100/100] => loss: 2.14428, acc: 0.18667\n",
      "[epoch 24/100, episode 50/100] => loss: 1.94996, acc: 0.29667\n",
      "[epoch 24/100, episode 100/100] => loss: 1.99367, acc: 0.29000\n",
      "[epoch 25/100, episode 50/100] => loss: 2.02850, acc: 0.22667\n",
      "[epoch 25/100, episode 100/100] => loss: 1.86114, acc: 0.35000\n",
      "[epoch 26/100, episode 50/100] => loss: 2.04892, acc: 0.24000\n",
      "[epoch 26/100, episode 100/100] => loss: 1.97290, acc: 0.30000\n",
      "[epoch 27/100, episode 50/100] => loss: 1.78708, acc: 0.39333\n",
      "[epoch 27/100, episode 100/100] => loss: 1.99107, acc: 0.29333\n",
      "[epoch 28/100, episode 50/100] => loss: 2.07003, acc: 0.25000\n",
      "[epoch 28/100, episode 100/100] => loss: 1.92115, acc: 0.30000\n",
      "[epoch 29/100, episode 50/100] => loss: 1.93209, acc: 0.23000\n",
      "[epoch 29/100, episode 100/100] => loss: 1.91216, acc: 0.32333\n",
      "[epoch 30/100, episode 50/100] => loss: 1.87936, acc: 0.33000\n",
      "[epoch 30/100, episode 100/100] => loss: 1.89553, acc: 0.33000\n",
      "[epoch 31/100, episode 50/100] => loss: 1.88535, acc: 0.35000\n",
      "[epoch 31/100, episode 100/100] => loss: 1.95895, acc: 0.22667\n",
      "[epoch 32/100, episode 50/100] => loss: 1.86354, acc: 0.38667\n",
      "[epoch 32/100, episode 100/100] => loss: 1.79437, acc: 0.33333\n",
      "[epoch 33/100, episode 50/100] => loss: 1.91644, acc: 0.30000\n",
      "[epoch 33/100, episode 100/100] => loss: 1.83855, acc: 0.36333\n",
      "[epoch 34/100, episode 50/100] => loss: 1.86975, acc: 0.32333\n",
      "[epoch 34/100, episode 100/100] => loss: 1.82483, acc: 0.32000\n",
      "[epoch 35/100, episode 50/100] => loss: 1.69242, acc: 0.38333\n",
      "[epoch 35/100, episode 100/100] => loss: 1.88060, acc: 0.30333\n",
      "[epoch 36/100, episode 50/100] => loss: 1.84875, acc: 0.32000\n",
      "[epoch 36/100, episode 100/100] => loss: 1.82592, acc: 0.34667\n",
      "[epoch 37/100, episode 50/100] => loss: 1.77857, acc: 0.41333\n",
      "[epoch 37/100, episode 100/100] => loss: 1.80625, acc: 0.34667\n",
      "[epoch 38/100, episode 50/100] => loss: 1.81370, acc: 0.30333\n",
      "[epoch 38/100, episode 100/100] => loss: 1.72117, acc: 0.36667\n",
      "[epoch 39/100, episode 50/100] => loss: 1.74192, acc: 0.34333\n",
      "[epoch 39/100, episode 100/100] => loss: 1.66281, acc: 0.38667\n",
      "[epoch 40/100, episode 50/100] => loss: 1.79262, acc: 0.34333\n",
      "[epoch 40/100, episode 100/100] => loss: 1.69672, acc: 0.43667\n",
      "[epoch 41/100, episode 50/100] => loss: 1.61254, acc: 0.46333\n",
      "[epoch 41/100, episode 100/100] => loss: 1.68878, acc: 0.38333\n",
      "[epoch 42/100, episode 50/100] => loss: 1.64806, acc: 0.41333\n",
      "[epoch 42/100, episode 100/100] => loss: 1.67252, acc: 0.36000\n",
      "[epoch 43/100, episode 50/100] => loss: 1.58334, acc: 0.38000\n",
      "[epoch 43/100, episode 100/100] => loss: 1.74588, acc: 0.33667\n",
      "[epoch 44/100, episode 50/100] => loss: 2.15882, acc: 0.29000\n",
      "[epoch 44/100, episode 100/100] => loss: 2.02064, acc: 0.23000\n",
      "[epoch 45/100, episode 50/100] => loss: 1.91479, acc: 0.30000\n",
      "[epoch 45/100, episode 100/100] => loss: 1.97569, acc: 0.30333\n",
      "[epoch 46/100, episode 50/100] => loss: 1.94112, acc: 0.33000\n",
      "[epoch 46/100, episode 100/100] => loss: 1.88206, acc: 0.32333\n",
      "[epoch 47/100, episode 50/100] => loss: 1.91538, acc: 0.32333\n",
      "[epoch 47/100, episode 100/100] => loss: 1.92995, acc: 0.30000\n",
      "[epoch 48/100, episode 50/100] => loss: 1.76457, acc: 0.38000\n",
      "[epoch 48/100, episode 100/100] => loss: 1.87652, acc: 0.29667\n",
      "[epoch 49/100, episode 50/100] => loss: 1.69360, acc: 0.35000\n",
      "[epoch 49/100, episode 100/100] => loss: 1.78413, acc: 0.33333\n",
      "[epoch 50/100, episode 50/100] => loss: 1.67899, acc: 0.36333\n",
      "[epoch 50/100, episode 100/100] => loss: 1.86175, acc: 0.35667\n",
      "[epoch 51/100, episode 50/100] => loss: 1.87211, acc: 0.30667\n",
      "[epoch 51/100, episode 100/100] => loss: 1.77233, acc: 0.35333\n",
      "[epoch 52/100, episode 50/100] => loss: 1.71212, acc: 0.31000\n",
      "[epoch 52/100, episode 100/100] => loss: 1.63567, acc: 0.42000\n",
      "[epoch 53/100, episode 50/100] => loss: 1.74071, acc: 0.36000\n",
      "[epoch 53/100, episode 100/100] => loss: 1.74619, acc: 0.36333\n",
      "[epoch 54/100, episode 50/100] => loss: 1.81180, acc: 0.32667\n",
      "[epoch 54/100, episode 100/100] => loss: 1.66812, acc: 0.35667\n",
      "[epoch 55/100, episode 50/100] => loss: 1.63315, acc: 0.38667\n",
      "[epoch 55/100, episode 100/100] => loss: 1.45341, acc: 0.43000\n",
      "[epoch 56/100, episode 50/100] => loss: 1.68340, acc: 0.38667\n",
      "[epoch 56/100, episode 100/100] => loss: 1.77494, acc: 0.37667\n",
      "[epoch 57/100, episode 50/100] => loss: 1.66724, acc: 0.34667\n",
      "[epoch 57/100, episode 100/100] => loss: 1.73710, acc: 0.37333\n",
      "[epoch 58/100, episode 50/100] => loss: 1.62798, acc: 0.44000\n",
      "[epoch 58/100, episode 100/100] => loss: 1.61715, acc: 0.44333\n",
      "[epoch 59/100, episode 50/100] => loss: 1.68195, acc: 0.40000\n",
      "[epoch 59/100, episode 100/100] => loss: 1.66217, acc: 0.38000\n",
      "[epoch 60/100, episode 50/100] => loss: 1.71217, acc: 0.33333\n",
      "[epoch 60/100, episode 100/100] => loss: 1.71096, acc: 0.36667\n",
      "[epoch 61/100, episode 50/100] => loss: 1.73385, acc: 0.41333\n",
      "[epoch 61/100, episode 100/100] => loss: 1.51825, acc: 0.41667\n",
      "[epoch 62/100, episode 50/100] => loss: 1.76457, acc: 0.33667\n",
      "[epoch 62/100, episode 100/100] => loss: 1.55713, acc: 0.40667\n",
      "[epoch 63/100, episode 50/100] => loss: 1.63954, acc: 0.36667\n",
      "[epoch 63/100, episode 100/100] => loss: 1.56959, acc: 0.41667\n",
      "[epoch 64/100, episode 50/100] => loss: 1.55669, acc: 0.42333\n",
      "[epoch 64/100, episode 100/100] => loss: 1.51358, acc: 0.43667\n",
      "[epoch 65/100, episode 50/100] => loss: 1.64960, acc: 0.42667\n",
      "[epoch 65/100, episode 100/100] => loss: 1.74150, acc: 0.37000\n",
      "[epoch 66/100, episode 50/100] => loss: 1.60492, acc: 0.38333\n",
      "[epoch 66/100, episode 100/100] => loss: 1.71750, acc: 0.35667\n"
     ]
    },
    {
     "name": "stdout",
     "output_type": "stream",
     "text": [
      "[epoch 67/100, episode 50/100] => loss: 1.51980, acc: 0.42667\n",
      "[epoch 67/100, episode 100/100] => loss: 1.64937, acc: 0.36333\n",
      "[epoch 68/100, episode 50/100] => loss: 1.54091, acc: 0.42333\n",
      "[epoch 68/100, episode 100/100] => loss: 1.59546, acc: 0.39333\n",
      "[epoch 69/100, episode 50/100] => loss: 1.45297, acc: 0.42333\n",
      "[epoch 69/100, episode 100/100] => loss: 1.47947, acc: 0.43667\n",
      "[epoch 70/100, episode 50/100] => loss: 1.69378, acc: 0.36000\n",
      "[epoch 70/100, episode 100/100] => loss: 1.51725, acc: 0.42000\n",
      "[epoch 71/100, episode 50/100] => loss: 1.56655, acc: 0.41333\n",
      "[epoch 71/100, episode 100/100] => loss: 1.63956, acc: 0.37667\n",
      "[epoch 72/100, episode 50/100] => loss: 1.38129, acc: 0.48667\n",
      "[epoch 72/100, episode 100/100] => loss: 1.74691, acc: 0.34000\n",
      "[epoch 73/100, episode 50/100] => loss: 1.58679, acc: 0.37667\n",
      "[epoch 73/100, episode 100/100] => loss: 1.68783, acc: 0.37333\n",
      "[epoch 74/100, episode 50/100] => loss: 1.62780, acc: 0.40333\n",
      "[epoch 74/100, episode 100/100] => loss: 1.42847, acc: 0.46000\n",
      "[epoch 75/100, episode 50/100] => loss: 1.48076, acc: 0.45333\n",
      "[epoch 75/100, episode 100/100] => loss: 1.53440, acc: 0.48333\n",
      "[epoch 76/100, episode 50/100] => loss: 1.40386, acc: 0.44000\n",
      "[epoch 76/100, episode 100/100] => loss: 1.54855, acc: 0.41667\n",
      "[epoch 77/100, episode 50/100] => loss: 1.49597, acc: 0.43333\n",
      "[epoch 77/100, episode 100/100] => loss: 1.38021, acc: 0.49333\n",
      "[epoch 78/100, episode 50/100] => loss: 1.56110, acc: 0.39667\n",
      "[epoch 78/100, episode 100/100] => loss: 1.52410, acc: 0.38667\n",
      "[epoch 79/100, episode 50/100] => loss: 1.44025, acc: 0.45333\n",
      "[epoch 79/100, episode 100/100] => loss: 1.53901, acc: 0.41000\n",
      "[epoch 80/100, episode 50/100] => loss: 1.53720, acc: 0.44333\n",
      "[epoch 80/100, episode 100/100] => loss: 1.79515, acc: 0.30667\n",
      "[epoch 81/100, episode 50/100] => loss: 1.60739, acc: 0.41333\n",
      "[epoch 81/100, episode 100/100] => loss: 1.29981, acc: 0.49000\n",
      "[epoch 82/100, episode 50/100] => loss: 1.16612, acc: 0.57333\n",
      "[epoch 82/100, episode 100/100] => loss: 1.38347, acc: 0.44333\n",
      "[epoch 83/100, episode 50/100] => loss: 1.30003, acc: 0.46000\n",
      "[epoch 83/100, episode 100/100] => loss: 1.47273, acc: 0.43000\n",
      "[epoch 84/100, episode 50/100] => loss: 1.31366, acc: 0.46667\n",
      "[epoch 84/100, episode 100/100] => loss: 1.53522, acc: 0.40000\n",
      "[epoch 85/100, episode 50/100] => loss: 1.42151, acc: 0.46667\n",
      "[epoch 85/100, episode 100/100] => loss: 1.45721, acc: 0.46000\n",
      "[epoch 86/100, episode 50/100] => loss: 1.34651, acc: 0.48667\n",
      "[epoch 86/100, episode 100/100] => loss: 1.46353, acc: 0.43667\n",
      "[epoch 87/100, episode 50/100] => loss: 1.16226, acc: 0.53000\n",
      "[epoch 87/100, episode 100/100] => loss: 1.46311, acc: 0.43667\n",
      "[epoch 88/100, episode 50/100] => loss: 1.29838, acc: 0.48667\n",
      "[epoch 88/100, episode 100/100] => loss: 1.34094, acc: 0.47000\n",
      "[epoch 89/100, episode 50/100] => loss: 1.59351, acc: 0.36333\n",
      "[epoch 89/100, episode 100/100] => loss: 1.31135, acc: 0.50333\n",
      "[epoch 90/100, episode 50/100] => loss: 1.63262, acc: 0.34333\n",
      "[epoch 90/100, episode 100/100] => loss: 1.36127, acc: 0.46000\n",
      "[epoch 91/100, episode 50/100] => loss: 1.35431, acc: 0.50333\n",
      "[epoch 91/100, episode 100/100] => loss: 1.24520, acc: 0.49667\n",
      "[epoch 92/100, episode 50/100] => loss: 1.41561, acc: 0.45000\n",
      "[epoch 92/100, episode 100/100] => loss: 1.23284, acc: 0.48333\n",
      "[epoch 93/100, episode 50/100] => loss: 1.28883, acc: 0.51000\n",
      "[epoch 93/100, episode 100/100] => loss: 1.39159, acc: 0.44000\n",
      "[epoch 94/100, episode 50/100] => loss: 1.31325, acc: 0.47333\n",
      "[epoch 94/100, episode 100/100] => loss: 1.51501, acc: 0.39667\n",
      "[epoch 95/100, episode 50/100] => loss: 1.21501, acc: 0.54000\n",
      "[epoch 95/100, episode 100/100] => loss: 1.27806, acc: 0.51333\n",
      "[epoch 96/100, episode 50/100] => loss: 1.32464, acc: 0.48667\n",
      "[epoch 96/100, episode 100/100] => loss: 1.39181, acc: 0.45000\n",
      "[epoch 97/100, episode 50/100] => loss: 1.11769, acc: 0.52333\n",
      "[epoch 97/100, episode 100/100] => loss: 1.12377, acc: 0.53333\n",
      "[epoch 98/100, episode 50/100] => loss: 1.24625, acc: 0.53000\n",
      "[epoch 98/100, episode 100/100] => loss: 1.23668, acc: 0.50333\n",
      "[epoch 99/100, episode 50/100] => loss: 1.43694, acc: 0.46000\n",
      "[epoch 99/100, episode 100/100] => loss: 1.30126, acc: 0.46333\n",
      "[epoch 100/100, episode 50/100] => loss: 1.61790, acc: 0.37000\n",
      "[epoch 100/100, episode 100/100] => loss: 1.34752, acc: 0.46667\n"
     ]
    }
   ],
   "source": [
    "for ep in range(n_epochs):\n",
    "    for epi in range(n_episodes):\n",
    "        epi_classes = np.random.permutation(n_classes)[:n_way]\n",
    "        support = np.zeros([n_way, n_shot, im_height, im_width, channels], dtype=np.float32)\n",
    "        query = np.zeros([n_way, n_query, im_height, im_width, channels], dtype=np.float32)\n",
    "        for i, epi_cls in enumerate(epi_classes):\n",
    "            selected = np.random.permutation(n_examples)[:n_shot + n_query]\n",
    "            support[i] = train_dataset[epi_cls, selected[:n_shot]]\n",
    "            query[i] = train_dataset[epi_cls, selected[n_shot:]]\n",
    "        # support = np.expand_dims(support, axis=-1)\n",
    "        # query = np.expand_dims(query, axis=-1)\n",
    "        labels = np.tile(np.arange(n_way)[:, np.newaxis], (1, n_query)).astype(np.uint8)\n",
    "        _, ls, ac = sess.run([train_op, ce_loss, acc], feed_dict={x: support, q: query, y:labels})\n",
    "        if (epi+1) % 50 == 0:\n",
    "            print('[epoch {}/{}, episode {}/{}] => loss: {:.5f}, acc: {:.5f}'.format(ep+1, n_epochs, epi+1, n_episodes, ls, ac))"
   ]
  },
  {
   "cell_type": "code",
   "execution_count": 13,
   "metadata": {},
   "outputs": [
    {
     "name": "stdout",
     "output_type": "stream",
     "text": [
      "(20, 350, 84, 84, 3)\n"
     ]
    }
   ],
   "source": [
    "# Load Test Dataset\n",
    "test_dataset = np.load('mini-imagenet-test.npy')\n",
    "n_test_classes = test_dataset.shape[0]\n",
    "print(test_dataset.shape)"
   ]
  },
  {
   "cell_type": "code",
   "execution_count": 14,
   "metadata": {},
   "outputs": [],
   "source": [
    "n_test_episodes = 600\n",
    "n_test_way = 5\n",
    "n_test_shot = 5\n",
    "n_test_query = 15"
   ]
  },
  {
   "cell_type": "code",
   "execution_count": 15,
   "metadata": {},
   "outputs": [
    {
     "name": "stdout",
     "output_type": "stream",
     "text": [
      "Testing...\n",
      "[test episode 50/600] => loss: 0.81334, acc: 0.61333\n",
      "[test episode 100/600] => loss: 0.71534, acc: 0.78667\n",
      "[test episode 150/600] => loss: 0.77452, acc: 0.68000\n",
      "[test episode 200/600] => loss: 0.65571, acc: 0.74667\n",
      "[test episode 250/600] => loss: 0.59001, acc: 0.77333\n",
      "[test episode 300/600] => loss: 0.67461, acc: 0.62667\n",
      "[test episode 350/600] => loss: 0.66137, acc: 0.70667\n",
      "[test episode 400/600] => loss: 0.72775, acc: 0.64000\n",
      "[test episode 450/600] => loss: 1.31093, acc: 0.49333\n",
      "[test episode 500/600] => loss: 1.14540, acc: 0.52000\n",
      "[test episode 550/600] => loss: 1.00560, acc: 0.54667\n",
      "[test episode 600/600] => loss: 0.78214, acc: 0.62667\n",
      "Average Test Accuracy: 0.61720\n"
     ]
    }
   ],
   "source": [
    "print('Testing...')\n",
    "avg_acc = 0.\n",
    "for epi in range(n_test_episodes):\n",
    "    epi_classes = np.random.permutation(n_test_classes)[:n_test_way]\n",
    "    support = np.zeros([n_test_way, n_test_shot, im_height, im_width, channels], dtype=np.float32)\n",
    "    query = np.zeros([n_test_way, n_test_query, im_height, im_width, channels], dtype=np.float32)\n",
    "    for i, epi_cls in enumerate(epi_classes):\n",
    "        selected = np.random.permutation(n_examples)[:n_test_shot + n_test_query]\n",
    "        support[i] = test_dataset[epi_cls, selected[:n_test_shot]]\n",
    "        query[i] = test_dataset[epi_cls, selected[n_test_shot:]]\n",
    "    # support = np.expand_dims(support, axis=-1)\n",
    "    # query = np.expand_dims(query, axis=-1)\n",
    "    labels = np.tile(np.arange(n_test_way)[:, np.newaxis], (1, n_test_query)).astype(np.uint8)\n",
    "    ls, ac = sess.run([ce_loss, acc], feed_dict={x: support, q: query, y:labels})\n",
    "    avg_acc += ac\n",
    "    if (epi+1) % 50 == 0:\n",
    "        print('[test episode {}/{}] => loss: {:.5f}, acc: {:.5f}'.format(epi+1, n_test_episodes, ls, ac))\n",
    "avg_acc /= n_test_episodes\n",
    "print('Average Test Accuracy: {:.5f}'.format(avg_acc))"
   ]
  },
  {
   "cell_type": "code",
   "execution_count": null,
   "metadata": {},
   "outputs": [],
   "source": []
  }
 ],
 "metadata": {
  "kernelspec": {
   "display_name": "tf",
   "language": "python",
   "name": "tf"
  },
  "language_info": {
   "codemirror_mode": {
    "name": "ipython",
    "version": 3
   },
   "file_extension": ".py",
   "mimetype": "text/x-python",
   "name": "python",
   "nbconvert_exporter": "python",
   "pygments_lexer": "ipython3",
   "version": "3.6.7"
  }
 },
 "nbformat": 4,
 "nbformat_minor": 2
}
