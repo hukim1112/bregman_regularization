{
 "cells": [
  {
   "cell_type": "code",
   "execution_count": 1,
   "metadata": {},
   "outputs": [],
   "source": [
    "%matplotlib inline\n",
    "from __future__ import print_function\n",
    "from PIL import Image\n",
    "import numpy as np\n",
    "import tensorflow as tf\n",
    "import os\n",
    "import glob\n",
    "import matplotlib.pyplot as plt\n",
    "%matplotlib inline"
   ]
  },
  {
   "cell_type": "code",
   "execution_count": 2,
   "metadata": {},
   "outputs": [],
   "source": [
    "def conv_block(inputs, out_channels, name='conv'):\n",
    "    with tf.variable_scope(name):\n",
    "        conv = tf.layers.conv2d(inputs, out_channels, kernel_size=4, strides=2, padding='SAME')\n",
    "        conv = tf.contrib.layers.batch_norm(conv, updates_collections=None, decay=0.99, scale=True, center=True)\n",
    "        conv = tf.nn.relu(conv)\n",
    "        #conv = tf.contrib.layers.max_pool2d(conv, 2)\n",
    "        return conv"
   ]
  },
  {
   "cell_type": "code",
   "execution_count": 3,
   "metadata": {},
   "outputs": [],
   "source": [
    "def encoder(x, h_dim, z_dim, reuse=False):\n",
    "    with tf.variable_scope('encoder', reuse=reuse):\n",
    "        net = conv_block(x, h_dim, name='conv_1')\n",
    "        net = conv_block(net, h_dim, name='conv_2')\n",
    "        net = conv_block(net, h_dim, name='conv_3')\n",
    "        net = conv_block(net, z_dim, name='conv_4')\n",
    "        net = tf.contrib.layers.flatten(net)\n",
    "        return net"
   ]
  },
  {
   "cell_type": "code",
   "execution_count": 4,
   "metadata": {},
   "outputs": [],
   "source": [
    "def deconv_block(inputs, out_channels, name='deconv'):\n",
    "    with tf.variable_scope(name):\n",
    "        conv = tf.layers.conv2d_transpose(inputs, out_channels, kernel_size=4, strides=2, padding='SAME')\n",
    "        conv = tf.contrib.layers.batch_norm(conv, updates_collections=None, decay=0.99, scale=True, center=True)\n",
    "        conv = tf.nn.relu(conv)\n",
    "        return conv"
   ]
  },
  {
   "cell_type": "code",
   "execution_count": 5,
   "metadata": {},
   "outputs": [],
   "source": [
    "def decoder(x, h_dim, z_dim, reuse=False):\n",
    "    with tf.variable_scope('decoder', reuse=reuse):\n",
    "        net = tf.layers.dense(x, 3 * 3 * 64)\n",
    "        net = tf.layers.dense(net, 7 * 7 * 64)\n",
    "        net = tf.reshape(net, [-1, 7, 7, 64])\n",
    "        net = deconv_block(net, h_dim, name='deconv_1')\n",
    "        print(net.shape)\n",
    "        net = deconv_block(net, h_dim, name='deconv_2')\n",
    "        print(net.shape)\n",
    "        #net = deconv_block(net, z_dim, name='deconv_3')\n",
    "        net = tf.layers.conv2d(net, 1, 3, padding='SAME')\n",
    "        print(net.shape)\n",
    "        net = tf.nn.tanh(net)\n",
    "        return net"
   ]
  },
  {
   "cell_type": "code",
   "execution_count": 6,
   "metadata": {},
   "outputs": [],
   "source": [
    "def euclidean_distance(a, b):\n",
    "    # a.shape = N x D\n",
    "    # b.shape = M x D\n",
    "    N, D = tf.shape(a)[0], tf.shape(a)[1]\n",
    "    M = tf.shape(b)[0]\n",
    "    a = tf.tile(tf.expand_dims(a, axis=1), (1, M, 1))\n",
    "    b = tf.tile(tf.expand_dims(b, axis=0), (N, 1, 1))\n",
    "    return tf.reduce_mean(tf.square(a - b), axis=2)"
   ]
  },
  {
   "cell_type": "code",
   "execution_count": 7,
   "metadata": {},
   "outputs": [],
   "source": [
    "def save_imgs(fig, axs, images, name, ep):\n",
    "    for j in range(25):\n",
    "        axs[j//5, j%5].imshow(images[j*12, :, :, 0], cmap='gray')\n",
    "        axs[j//5, j%5].axis('off')\n",
    "    fig.savefig(\"images/omniglot_{}_{}.png\".format(ep, name))"
   ]
  },
  {
   "cell_type": "code",
   "execution_count": 8,
   "metadata": {},
   "outputs": [],
   "source": [
    "n_epochs = 20\n",
    "n_episodes = 100\n",
    "n_way = 60\n",
    "n_shot = 5\n",
    "n_query = 5\n",
    "n_examples = 20\n",
    "im_width, im_height, channels = 28, 28, 1\n",
    "h_dim = 64\n",
    "z_dim = 64"
   ]
  },
  {
   "cell_type": "code",
   "execution_count": 9,
   "metadata": {},
   "outputs": [
    {
     "name": "stdout",
     "output_type": "stream",
     "text": [
      "(4112, 20, 28, 28)\n"
     ]
    }
   ],
   "source": [
    "# Load Train Dataset\n",
    "root_dir = './data/omniglot'\n",
    "train_split_path = os.path.join(root_dir, 'splits', 'train.txt')\n",
    "with open(train_split_path, 'r') as train_split:\n",
    "    train_classes = [line.rstrip() for line in train_split.readlines()]\n",
    "n_classes = len(train_classes)\n",
    "train_dataset = np.zeros([n_classes, n_examples, im_height, im_width], dtype=np.float32)\n",
    "for i, tc in enumerate(train_classes):\n",
    "    alphabet, character, rotation = tc.split('/')\n",
    "    rotation = float(rotation[3:])\n",
    "    im_dir = os.path.join(root_dir, 'data', alphabet, character)\n",
    "    im_files = sorted(glob.glob(os.path.join(im_dir, '*.png')))\n",
    "    for j, im_file in enumerate(im_files):\n",
    "        im = 1. - np.array(Image.open(im_file).rotate(rotation).resize((im_width, im_height)), np.float32, copy=False)\n",
    "        train_dataset[i, j] = im\n",
    "print(train_dataset.shape)"
   ]
  },
  {
   "cell_type": "code",
   "execution_count": 10,
   "metadata": {},
   "outputs": [
    {
     "name": "stdout",
     "output_type": "stream",
     "text": [
      "(?, 14, 14, 64)\n",
      "(?, 28, 28, 64)\n",
      "(?, 28, 28, 1)\n"
     ]
    }
   ],
   "source": [
    "x = tf.placeholder(tf.float32, [None, None, im_height, im_width, channels])\n",
    "q = tf.placeholder(tf.float32, [None, None, im_height, im_width, channels])\n",
    "x_shape = tf.shape(x)\n",
    "q_shape = tf.shape(q)\n",
    "num_classes, num_support = x_shape[0], x_shape[1]\n",
    "num_queries = q_shape[1]\n",
    "y = tf.placeholder(tf.int64, [None, None])\n",
    "y_one_hot = tf.one_hot(y, depth=num_classes)\n",
    "emb_x = encoder(tf.reshape(x, [num_classes * num_support, im_height, im_width, channels]), h_dim, z_dim)\n",
    "emb_dim = tf.shape(emb_x)[-1]\n",
    "emb_x = tf.reduce_mean(tf.reshape(emb_x, [num_classes, num_support, emb_dim]), axis=1)\n",
    "\n",
    "_input = tf.reshape(q, [num_classes * num_queries, im_height, im_width, channels])\n",
    "emb_q = encoder(_input, h_dim, z_dim, reuse=True)\n",
    "\n",
    "q_hat = decoder(emb_q, h_dim, z_dim)\n",
    "q_label = tf.reshape(q, [num_classes * num_queries, im_height, im_width, channels])\n",
    "recon_loss = tf.reduce_mean(tf.square(q_label-q_hat))\n",
    "\n",
    "dists = euclidean_distance(emb_q, emb_x)\n",
    "log_p_y = tf.reshape(tf.nn.log_softmax(-dists), [num_classes, num_queries, -1])\n",
    "ce_loss = -tf.reduce_mean(tf.reshape(tf.reduce_sum(tf.multiply(y_one_hot, log_p_y), axis=-1), [-1]))\n",
    "acc = tf.reduce_mean(tf.to_float(tf.equal(tf.argmax(log_p_y, axis=-1), y)))"
   ]
  },
  {
   "cell_type": "code",
   "execution_count": 11,
   "metadata": {},
   "outputs": [],
   "source": [
    "train_op = tf.train.AdamOptimizer().minimize(recon_loss)"
   ]
  },
  {
   "cell_type": "code",
   "execution_count": 12,
   "metadata": {},
   "outputs": [],
   "source": [
    "sess = tf.InteractiveSession()\n",
    "init_op = tf.global_variables_initializer()\n",
    "sess.run(init_op)"
   ]
  },
  {
   "cell_type": "code",
   "execution_count": 13,
   "metadata": {},
   "outputs": [
    {
     "name": "stdout",
     "output_type": "stream",
     "text": [
      "[epoch 1/20, episode 50/100] => loss: 3.79703, acc: 0.18333\n",
      "[epoch 1/20, episode 100/100] => loss: 3.80937, acc: 0.33333\n",
      "[epoch 2/20, episode 50/100] => loss: 3.91796, acc: 0.47000\n",
      "[epoch 2/20, episode 100/100] => loss: 3.95754, acc: 0.52333\n",
      "[epoch 3/20, episode 50/100] => loss: 3.99104, acc: 0.47667\n",
      "[epoch 3/20, episode 100/100] => loss: 4.01606, acc: 0.45667\n",
      "[epoch 4/20, episode 50/100] => loss: 4.03949, acc: 0.41333\n",
      "[epoch 4/20, episode 100/100] => loss: 4.04199, acc: 0.37333\n",
      "[epoch 5/20, episode 50/100] => loss: 4.05350, acc: 0.44333\n",
      "[epoch 5/20, episode 100/100] => loss: 4.05529, acc: 0.40000\n",
      "[epoch 6/20, episode 50/100] => loss: 4.06362, acc: 0.44000\n",
      "[epoch 6/20, episode 100/100] => loss: 4.06443, acc: 0.34000\n",
      "[epoch 7/20, episode 50/100] => loss: 4.06567, acc: 0.38667\n",
      "[epoch 7/20, episode 100/100] => loss: 4.06699, acc: 0.40333\n",
      "[epoch 8/20, episode 50/100] => loss: 4.06550, acc: 0.38333\n",
      "[epoch 8/20, episode 100/100] => loss: 4.07020, acc: 0.37000\n",
      "[epoch 9/20, episode 50/100] => loss: 4.06644, acc: 0.41667\n",
      "[epoch 9/20, episode 100/100] => loss: 4.06902, acc: 0.39000\n",
      "[epoch 10/20, episode 50/100] => loss: 4.07011, acc: 0.40000\n",
      "[epoch 10/20, episode 100/100] => loss: 4.07339, acc: 0.37000\n",
      "[epoch 11/20, episode 50/100] => loss: 4.06646, acc: 0.39667\n",
      "[epoch 11/20, episode 100/100] => loss: 4.07357, acc: 0.37000\n",
      "[epoch 12/20, episode 50/100] => loss: 4.07119, acc: 0.44333\n",
      "[epoch 12/20, episode 100/100] => loss: 4.07332, acc: 0.36000\n",
      "[epoch 13/20, episode 50/100] => loss: 4.07152, acc: 0.29333\n",
      "[epoch 13/20, episode 100/100] => loss: 4.06928, acc: 0.41667\n",
      "[epoch 14/20, episode 50/100] => loss: 4.07444, acc: 0.34000\n",
      "[epoch 14/20, episode 100/100] => loss: 4.07286, acc: 0.36333\n",
      "[epoch 15/20, episode 50/100] => loss: 4.07490, acc: 0.43667\n",
      "[epoch 15/20, episode 100/100] => loss: 4.07397, acc: 0.32667\n",
      "[epoch 16/20, episode 50/100] => loss: 4.07212, acc: 0.33333\n",
      "[epoch 16/20, episode 100/100] => loss: 4.06785, acc: 0.40667\n",
      "[epoch 17/20, episode 50/100] => loss: 4.07381, acc: 0.34333\n",
      "[epoch 17/20, episode 100/100] => loss: 4.07105, acc: 0.36667\n",
      "[epoch 18/20, episode 50/100] => loss: 4.07548, acc: 0.32667\n",
      "[epoch 18/20, episode 100/100] => loss: 4.06962, acc: 0.41000\n",
      "[epoch 19/20, episode 50/100] => loss: 4.07501, acc: 0.35333\n",
      "[epoch 19/20, episode 100/100] => loss: 4.07473, acc: 0.37000\n",
      "[epoch 20/20, episode 50/100] => loss: 4.07427, acc: 0.36333\n",
      "[epoch 20/20, episode 100/100] => loss: 4.07536, acc: 0.42000\n"
     ]
    },
    {
     "data": {
      "image/png": "[encoded data removed]",
      "text/plain": [
       "<Figure size 432x288 with 25 Axes>"
      ]
     },
     "metadata": {},
     "output_type": "display_data"
    }
   ],
   "source": [
    "fig, axs = plt.subplots(5, 5)\n",
    "for ep in range(n_epochs):\n",
    "    for epi in range(n_episodes):\n",
    "        epi_classes = np.random.permutation(n_classes)[:n_way]\n",
    "        support = np.zeros([n_way, n_shot, im_height, im_width], dtype=np.float32)\n",
    "        query = np.zeros([n_way, n_query, im_height, im_width], dtype=np.float32)\n",
    "        for i, epi_cls in enumerate(epi_classes):\n",
    "            selected = np.random.permutation(n_examples)[:n_shot + n_query]\n",
    "            support[i] = train_dataset[epi_cls, selected[:n_shot]]\n",
    "            query[i] = train_dataset[epi_cls, selected[n_shot:]]\n",
    "        support = np.expand_dims(support, axis=-1)\n",
    "        query = np.expand_dims(query, axis=-1)\n",
    "        labels = np.tile(np.arange(n_way)[:, np.newaxis], (1, n_query)).astype(np.uint8)\n",
    "        _, ls, ac, origin_images, images = sess.run([train_op, ce_loss, acc, _input, q_hat], feed_dict={x: support, q: query, y:labels})\n",
    "        if (epi+1) % 50 == 0:\n",
    "            print('[epoch {}/{}, episode {}/{}] => loss: {:.5f}, acc: {:.5f}'.format(ep+1, n_epochs, epi+1, n_episodes, ls, ac))\n",
    "            save_imgs(fig, axs, origin_images, \"origin\", ep)\n",
    "            save_imgs(fig, axs, images, \"generated\", ep)"
   ]
  },
  {
   "cell_type": "code",
   "execution_count": 14,
   "metadata": {},
   "outputs": [
    {
     "name": "stdout",
     "output_type": "stream",
     "text": [
      "(1692, 20, 28, 28)\n"
     ]
    }
   ],
   "source": [
    "# Load Test Dataset\n",
    "root_dir = './data/omniglot'\n",
    "test_split_path = os.path.join(root_dir, 'splits', 'test.txt')\n",
    "with open(test_split_path, 'r') as test_split:\n",
    "    test_classes = [line.rstrip() for line in test_split.readlines()]\n",
    "n_test_classes = len(test_classes)\n",
    "test_dataset = np.zeros([n_test_classes, n_examples, im_height, im_width], dtype=np.float32)\n",
    "for i, tc in enumerate(test_classes):\n",
    "    alphabet, character, rotation = tc.split('/')\n",
    "    rotation = float(rotation[3:])\n",
    "    im_dir = os.path.join(root_dir, 'data', alphabet, character)\n",
    "    im_files = sorted(glob.glob(os.path.join(im_dir, '*.png')))\n",
    "    for j, im_file in enumerate(im_files):\n",
    "        im = 1. - np.array(Image.open(im_file).rotate(rotation).resize((im_width, im_height)), np.float32, copy=False)\n",
    "        test_dataset[i, j] = im\n",
    "print(test_dataset.shape)"
   ]
  },
  {
   "cell_type": "code",
   "execution_count": 30,
   "metadata": {},
   "outputs": [],
   "source": [
    "n_test_episodes = 1000\n",
    "n_test_way = 20\n",
    "n_test_shot = 5\n",
    "n_test_query = 15"
   ]
  },
  {
   "cell_type": "code",
   "execution_count": 31,
   "metadata": {},
   "outputs": [
    {
     "name": "stdout",
     "output_type": "stream",
     "text": [
      "Testing...\n",
      "[test episode 50/1000] => loss: 2.98150, acc: 0.40000\n",
      "[test episode 100/1000] => loss: 2.98053, acc: 0.40000\n",
      "[test episode 150/1000] => loss: 2.98333, acc: 0.25000\n",
      "[test episode 200/1000] => loss: 2.98051, acc: 0.60000\n",
      "[test episode 250/1000] => loss: 2.97690, acc: 0.50000\n",
      "[test episode 300/1000] => loss: 2.98466, acc: 0.25000\n",
      "[test episode 350/1000] => loss: 2.97789, acc: 0.45000\n",
      "[test episode 400/1000] => loss: 2.97774, acc: 0.40000\n",
      "[test episode 450/1000] => loss: 2.97988, acc: 0.35000\n",
      "[test episode 500/1000] => loss: 2.97437, acc: 0.40000\n",
      "[test episode 550/1000] => loss: 2.97558, acc: 0.60000\n",
      "[test episode 600/1000] => loss: 2.97358, acc: 0.40000\n",
      "[test episode 650/1000] => loss: 2.98350, acc: 0.25000\n",
      "[test episode 700/1000] => loss: 2.97646, acc: 0.55000\n",
      "[test episode 750/1000] => loss: 2.97488, acc: 0.75000\n",
      "[test episode 800/1000] => loss: 2.97892, acc: 0.35000\n",
      "[test episode 850/1000] => loss: 2.98168, acc: 0.40000\n",
      "[test episode 900/1000] => loss: 2.97886, acc: 0.45000\n",
      "[test episode 950/1000] => loss: 2.97940, acc: 0.45000\n",
      "[test episode 1000/1000] => loss: 2.98724, acc: 0.20000\n",
      "Average Test Accuracy: 0.45030\n"
     ]
    }
   ],
   "source": [
    "print('Testing...')\n",
    "avg_acc = 0.\n",
    "for epi in range(n_test_episodes):\n",
    "    epi_classes = np.random.permutation(n_test_classes)[:n_test_way]\n",
    "    support = np.zeros([n_test_way, n_test_shot, im_height, im_width], dtype=np.float32)\n",
    "    query = np.zeros([n_test_way, n_test_query, im_height, im_width], dtype=np.float32)\n",
    "    for i, epi_cls in enumerate(epi_classes):\n",
    "        selected = np.random.permutation(n_examples)[:n_test_shot + n_test_query]\n",
    "        support[i] = test_dataset[epi_cls, selected[:n_test_shot]]\n",
    "        query[i] = test_dataset[epi_cls, selected[n_test_shot:]]\n",
    "    support = np.expand_dims(support, axis=-1)\n",
    "    query = np.expand_dims(query, axis=-1)\n",
    "    labels = np.tile(np.arange(n_test_way)[:, np.newaxis], (1, n_test_query)).astype(np.uint8)\n",
    "    ls, ac = sess.run([ce_loss, acc], feed_dict={x: support, q: query, y:labels})\n",
    "    avg_acc += ac\n",
    "    if (epi+1) % 50 == 0:\n",
    "        print('[test episode {}/{}] => loss: {:.5f}, acc: {:.5f}'.format(epi+1, n_test_episodes, ls, ac))\n",
    "avg_acc /= n_test_episodes\n",
    "print('Average Test Accuracy: {:.5f}'.format(avg_acc))"
   ]
  },
  {
   "cell_type": "code",
   "execution_count": null,
   "metadata": {},
   "outputs": [],
   "source": []
  }
 ],
 "metadata": {
  "kernelspec": {
   "display_name": "tf",
   "language": "python",
   "name": "tf"
  },
  "language_info": {
   "codemirror_mode": {
    "name": "ipython",
    "version": 3
   },
   "file_extension": ".py",
   "mimetype": "text/x-python",
   "name": "python",
   "nbconvert_exporter": "python",
   "pygments_lexer": "ipython3",
   "version": "3.6.7"
  }
 },
 "nbformat": 4,
 "nbformat_minor": 2
}
