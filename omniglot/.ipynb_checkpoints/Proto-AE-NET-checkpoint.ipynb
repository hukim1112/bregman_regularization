{
 "cells": [
  {
   "cell_type": "code",
   "execution_count": 1,
   "metadata": {},
   "outputs": [],
   "source": [
    "from __future__ import print_function\n",
    "from PIL import Image\n",
    "import numpy as np\n",
    "import tensorflow as tf\n",
    "import os\n",
    "import glob\n",
    "import matplotlib.pyplot as plt\n",
    "%matplotlib inline"
   ]
  },
  {
   "cell_type": "markdown",
   "metadata": {},
   "source": [
    "# 1.model"
   ]
  },
  {
   "cell_type": "code",
   "execution_count": 2,
   "metadata": {},
   "outputs": [],
   "source": [
    "def conv_block(inputs, out_channels, name='conv'):\n",
    "    with tf.variable_scope(name):\n",
    "        conv = tf.layers.conv2d(inputs, out_channels, kernel_size=4, strides=2, padding='SAME')\n",
    "        conv = tf.contrib.layers.batch_norm(conv, updates_collections=None, decay=0.99, scale=True, center=True)\n",
    "        conv = tf.nn.relu(conv)\n",
    "        return conv"
   ]
  },
  {
   "cell_type": "code",
   "execution_count": 3,
   "metadata": {},
   "outputs": [],
   "source": [
    "def encoder(x, h_dim, z_dim, reuse=False):\n",
    "    with tf.variable_scope('encoder', reuse=reuse):\n",
    "        net = conv_block(x, h_dim, name='conv_1')\n",
    "        net = conv_block(net, h_dim, name='conv_2')\n",
    "        net = conv_block(net, h_dim, name='conv_3')\n",
    "        net = conv_block(net, z_dim, name='conv_4')\n",
    "        net = tf.contrib.layers.flatten(net)\n",
    "        return net"
   ]
  },
  {
   "cell_type": "markdown",
   "metadata": {},
   "source": [
    "# 2.Loss function"
   ]
  },
  {
   "cell_type": "code",
   "execution_count": 4,
   "metadata": {},
   "outputs": [],
   "source": [
    "def bregman_distortion_loss(emb_q, emb_x, y):\n",
    "    def euclidean_distance(a, b):\n",
    "        # a.shape = N x D -> embeddings for N query\n",
    "        # b.shape = M x D -> prototypical embeddings for each class\n",
    "        N, D = tf.shape(a)[0], tf.shape(a)[1]\n",
    "        M = tf.shape(b)[0]\n",
    "        a = tf.expand_dims(a, axis=1) #a:Nx1xD\n",
    "        a = tf.tile(a, (1, M, 1)) #a:NxMxD\n",
    "        b = tf.expand_dims(b, axis=0) #b:1xMxD\n",
    "        b = tf.tile(b, (N, 1, 1)) #b:NxMxD\n",
    "        return tf.reduce_mean(tf.square(a - b), axis=2), N, M #NxM each column k means mse(b_k, a)\n",
    "    dists, N, M = euclidean_distance(emb_q, emb_x)\n",
    "    num_classes = M\n",
    "    num_query = N//M\n",
    "    y_one_hot = tf.one_hot(y, depth=num_classes)\n",
    "    log_p_y = tf.reshape(tf.nn.log_softmax(-dists), [num_classes, num_query, -1])\n",
    "    ce_loss = -tf.reduce_mean(tf.reshape(tf.reduce_sum(tf.multiply(y_one_hot, log_p_y), axis=-1), [-1]))\n",
    "    acc = tf.reduce_mean(tf.to_float(tf.equal(tf.argmax(log_p_y, axis=-1), y)))\n",
    "    return ce_loss, acc"
   ]
  },
  {
   "cell_type": "markdown",
   "metadata": {},
   "source": [
    "# 3.PARAMETER"
   ]
  },
  {
   "cell_type": "code",
   "execution_count": 5,
   "metadata": {},
   "outputs": [],
   "source": [
    "n_epochs = 20\n",
    "n_episodes = 100\n",
    "n_way = 20\n",
    "n_shot = 5\n",
    "n_query = 5\n",
    "n_examples = 20\n",
    "im_width, im_height, channels = 28, 28, 1\n",
    "h_dim = 64\n",
    "z_dim = 64"
   ]
  },
  {
   "cell_type": "markdown",
   "metadata": {},
   "source": [
    "# 4.BUILD GRAPH"
   ]
  },
  {
   "cell_type": "code",
   "execution_count": 6,
   "metadata": {},
   "outputs": [],
   "source": [
    "x = tf.placeholder(tf.float32, [None, None, im_height, im_width, channels]) #support(shot) images\n",
    "q = tf.placeholder(tf.float32, [None, None, im_height, im_width, channels]) #query images\n",
    "x_shape = tf.shape(x)\n",
    "q_shape = tf.shape(q)\n",
    "num_classes, num_support = x_shape[0], x_shape[1]\n",
    "num_queries = q_shape[1]\n",
    "y = tf.placeholder(tf.int64, [None, None]) #label : num_classes x num_queries matrix\n",
    "\n",
    "emb_x = encoder(tf.reshape(x, [num_classes * num_support, im_height, im_width, channels]), h_dim, z_dim)\n",
    "emb_dim = tf.shape(emb_x)[-1]\n",
    "emb_x = tf.reduce_mean(tf.reshape(emb_x, [num_classes, num_support, emb_dim]), axis=1) #prototical embeddings\n",
    "emb_q = encoder(tf.reshape(q, [num_classes * num_queries, im_height, im_width, channels]), h_dim, z_dim, reuse=True) #query embeddings"
   ]
  },
  {
   "cell_type": "code",
   "execution_count": 8,
   "metadata": {},
   "outputs": [],
   "source": [
    "ce_loss, acc = bregman_distortion_loss(emb_q, emb_x, y)\n",
    "train_op = tf.train.AdamOptimizer().minimize(ce_loss)"
   ]
  },
  {
   "cell_type": "code",
   "execution_count": 9,
   "metadata": {},
   "outputs": [],
   "source": [
    "sess = tf.InteractiveSession()\n",
    "init_op = tf.global_variables_initializer()\n",
    "sess.run(init_op)"
   ]
  },
  {
   "cell_type": "markdown",
   "metadata": {},
   "source": [
    "# 5.TRAIN SESSION"
   ]
  },
  {
   "cell_type": "code",
   "execution_count": 12,
   "metadata": {},
   "outputs": [
    {
     "name": "stdout",
     "output_type": "stream",
     "text": [
      "(4112, 20, 28, 28)\n"
     ]
    }
   ],
   "source": [
    "# Load Train Dataset\n",
    "data_generator_path = os.environ['DATA_GENERATOR']\n",
    "train_split_path = os.path.join(data_generator_path, 'labels/omniglot', 'train.txt')\n",
    "with open(train_split_path, 'r') as train_split:\n",
    "    train_classes = [line.rstrip() for line in train_split.readlines()]\n",
    "n_classes = len(train_classes)\n",
    "train_dataset = np.zeros([n_classes, n_examples, im_height, im_width], dtype=np.float32)\n",
    "for i, tc in enumerate(train_classes):\n",
    "    alphabet, character, rotation = tc.split('/')\n",
    "    rotation = float(rotation[3:])\n",
    "    im_dir = os.path.join(data_generator_path, 'datasets/omniglot', alphabet, character)\n",
    "    im_files = sorted(glob.glob(os.path.join(im_dir, '*.png')))\n",
    "    for j, im_file in enumerate(im_files):\n",
    "        im = 1. - np.array(Image.open(im_file).rotate(rotation).resize((im_width, im_height)), np.float32, copy=False)\n",
    "        train_dataset[i, j] = im\n",
    "print(train_dataset.shape)"
   ]
  },
  {
   "cell_type": "code",
   "execution_count": 13,
   "metadata": {},
   "outputs": [
    {
     "name": "stdout",
     "output_type": "stream",
     "text": [
      "[epoch 1/20, episode 50/100] => loss: 2.40458, acc: 0.54000\n",
      "[epoch 1/20, episode 100/100] => loss: 2.47352, acc: 0.50000\n",
      "[epoch 2/20, episode 50/100] => loss: 2.09847, acc: 0.62000\n",
      "[epoch 2/20, episode 100/100] => loss: 1.92592, acc: 0.70000\n",
      "[epoch 3/20, episode 50/100] => loss: 1.81603, acc: 0.68000\n",
      "[epoch 3/20, episode 100/100] => loss: 1.66259, acc: 0.71000\n",
      "[epoch 4/20, episode 50/100] => loss: 1.46495, acc: 0.84000\n",
      "[epoch 4/20, episode 100/100] => loss: 1.36051, acc: 0.84000\n",
      "[epoch 5/20, episode 50/100] => loss: 1.18992, acc: 0.92000\n",
      "[epoch 5/20, episode 100/100] => loss: 1.26851, acc: 0.91000\n",
      "[epoch 6/20, episode 50/100] => loss: 1.23445, acc: 0.83000\n",
      "[epoch 6/20, episode 100/100] => loss: 0.89810, acc: 0.94000\n",
      "[epoch 7/20, episode 50/100] => loss: 0.94573, acc: 0.93000\n",
      "[epoch 7/20, episode 100/100] => loss: 0.86647, acc: 0.95000\n",
      "[epoch 8/20, episode 50/100] => loss: 0.73724, acc: 0.99000\n",
      "[epoch 8/20, episode 100/100] => loss: 0.70012, acc: 0.96000\n",
      "[epoch 9/20, episode 50/100] => loss: 0.57622, acc: 0.95000\n",
      "[epoch 9/20, episode 100/100] => loss: 0.53347, acc: 0.93000\n",
      "[epoch 10/20, episode 50/100] => loss: 0.47989, acc: 0.92000\n",
      "[epoch 10/20, episode 100/100] => loss: 0.49119, acc: 0.97000\n",
      "[epoch 11/20, episode 50/100] => loss: 0.50963, acc: 0.97000\n",
      "[epoch 11/20, episode 100/100] => loss: 0.41270, acc: 0.96000\n",
      "[epoch 12/20, episode 50/100] => loss: 0.31349, acc: 0.96000\n",
      "[epoch 12/20, episode 100/100] => loss: 0.32141, acc: 0.96000\n",
      "[epoch 13/20, episode 50/100] => loss: 0.31397, acc: 0.98000\n",
      "[epoch 13/20, episode 100/100] => loss: 0.31971, acc: 0.96000\n",
      "[epoch 14/20, episode 50/100] => loss: 0.28491, acc: 0.98000\n",
      "[epoch 14/20, episode 100/100] => loss: 0.26388, acc: 0.97000\n",
      "[epoch 15/20, episode 50/100] => loss: 0.17201, acc: 0.99000\n",
      "[epoch 15/20, episode 100/100] => loss: 0.23731, acc: 0.96000\n",
      "[epoch 16/20, episode 50/100] => loss: 0.26428, acc: 0.97000\n",
      "[epoch 16/20, episode 100/100] => loss: 0.15613, acc: 0.97000\n",
      "[epoch 17/20, episode 50/100] => loss: 0.19758, acc: 0.98000\n",
      "[epoch 17/20, episode 100/100] => loss: 0.17136, acc: 0.99000\n",
      "[epoch 18/20, episode 50/100] => loss: 0.13759, acc: 0.99000\n",
      "[epoch 18/20, episode 100/100] => loss: 0.13141, acc: 1.00000\n",
      "[epoch 19/20, episode 50/100] => loss: 0.16841, acc: 0.98000\n",
      "[epoch 19/20, episode 100/100] => loss: 0.09002, acc: 1.00000\n",
      "[epoch 20/20, episode 50/100] => loss: 0.13507, acc: 1.00000\n",
      "[epoch 20/20, episode 100/100] => loss: 0.11248, acc: 0.99000\n"
     ]
    }
   ],
   "source": [
    "for ep in range(n_epochs):\n",
    "    for epi in range(n_episodes):\n",
    "        epi_classes = np.random.permutation(n_classes)[:n_way]\n",
    "        support = np.zeros([n_way, n_shot, im_height, im_width], dtype=np.float32)\n",
    "        query = np.zeros([n_way, n_query, im_height, im_width], dtype=np.float32)\n",
    "        for i, epi_cls in enumerate(epi_classes):\n",
    "            selected = np.random.permutation(n_examples)[:n_shot + n_query]\n",
    "            support[i] = train_dataset[epi_cls, selected[:n_shot]]\n",
    "            query[i] = train_dataset[epi_cls, selected[n_shot:]]\n",
    "        support = np.expand_dims(support, axis=-1)\n",
    "        query = np.expand_dims(query, axis=-1)\n",
    "        labels = np.tile(np.arange(n_way)[:, np.newaxis], (1, n_query)).astype(np.uint8)\n",
    "        _, ls, ac = sess.run([train_op, ce_loss, acc], feed_dict={x: support, q: query, y:labels})\n",
    "        if (epi+1) % 50 == 0:\n",
    "            print('[epoch {}/{}, episode {}/{}] => loss: {:.5f}, acc: {:.5f}'.format(ep+1, n_epochs, epi+1, n_episodes, ls, ac))"
   ]
  },
  {
   "cell_type": "markdown",
   "metadata": {},
   "source": [
    "# 6.EVAL SESSION"
   ]
  },
  {
   "cell_type": "code",
   "execution_count": 21,
   "metadata": {},
   "outputs": [
    {
     "name": "stdout",
     "output_type": "stream",
     "text": [
      "(1692, 20, 28, 28)\n"
     ]
    }
   ],
   "source": [
    "# Load Train Dataset\n",
    "data_generator_path = os.environ['DATA_GENERATOR']\n",
    "test_split_path = os.path.join(data_generator_path, 'labels/omniglot', 'test.txt')\n",
    "with open(test_split_path, 'r') as test_split:\n",
    "    test_classes = [line.rstrip() for line in test_split.readlines()]\n",
    "n_test_classes = len(test_classes)\n",
    "test_dataset = np.zeros([n_classes, n_examples, im_height, im_width], dtype=np.float32)\n",
    "for i, tc in enumerate(test_classes):\n",
    "    alphabet, character, rotation = tc.split('/')\n",
    "    rotation = float(rotation[3:])\n",
    "    im_dir = os.path.join(data_generator_path, 'datasets/omniglot', alphabet, character)\n",
    "    im_files = sorted(glob.glob(os.path.join(im_dir, '*.png')))\n",
    "    for j, im_file in enumerate(im_files):\n",
    "        im = 1. - np.array(Image.open(im_file).rotate(rotation).resize((im_width, im_height)), np.float32, copy=False)\n",
    "        test_dataset[i, j] = im\n",
    "print(test_dataset.shape)"
   ]
  },
  {
   "cell_type": "code",
   "execution_count": 22,
   "metadata": {},
   "outputs": [],
   "source": [
    "n_test_episodes = 1000\n",
    "n_test_way = 20\n",
    "n_test_shot = 5\n",
    "n_test_query = 15"
   ]
  },
  {
   "cell_type": "code",
   "execution_count": 23,
   "metadata": {},
   "outputs": [
    {
     "name": "stdout",
     "output_type": "stream",
     "text": [
      "Testing...\n",
      "[test episode 50/1000] => loss: 0.22650, acc: 0.99000\n",
      "[test episode 100/1000] => loss: 0.24945, acc: 0.96667\n",
      "[test episode 150/1000] => loss: 0.27204, acc: 0.96333\n",
      "[test episode 200/1000] => loss: 0.23285, acc: 0.97333\n",
      "[test episode 250/1000] => loss: 0.27357, acc: 0.97000\n",
      "[test episode 300/1000] => loss: 0.26400, acc: 0.96667\n",
      "[test episode 350/1000] => loss: 0.20402, acc: 0.97667\n",
      "[test episode 400/1000] => loss: 0.18261, acc: 0.98000\n",
      "[test episode 450/1000] => loss: 0.20323, acc: 0.98667\n",
      "[test episode 500/1000] => loss: 0.20217, acc: 0.96333\n",
      "[test episode 550/1000] => loss: 0.14610, acc: 0.99000\n",
      "[test episode 600/1000] => loss: 0.17759, acc: 0.98333\n",
      "[test episode 650/1000] => loss: 0.23044, acc: 0.96000\n",
      "[test episode 700/1000] => loss: 0.29685, acc: 0.95667\n",
      "[test episode 750/1000] => loss: 0.26233, acc: 0.96000\n",
      "[test episode 800/1000] => loss: 0.23099, acc: 0.97333\n",
      "[test episode 850/1000] => loss: 0.28583, acc: 0.95333\n",
      "[test episode 900/1000] => loss: 0.15590, acc: 0.98667\n",
      "[test episode 950/1000] => loss: 0.18310, acc: 0.98333\n",
      "[test episode 1000/1000] => loss: 0.30035, acc: 0.96667\n",
      "Average Test Accuracy: 0.96822\n"
     ]
    }
   ],
   "source": [
    "print('Testing...')\n",
    "avg_acc = 0.\n",
    "for epi in range(n_test_episodes):\n",
    "    epi_classes = np.random.permutation(n_test_classes)[:n_test_way]\n",
    "    support = np.zeros([n_test_way, n_test_shot, im_height, im_width], dtype=np.float32)\n",
    "    query = np.zeros([n_test_way, n_test_query, im_height, im_width], dtype=np.float32)\n",
    "    for i, epi_cls in enumerate(epi_classes):\n",
    "        selected = np.random.permutation(n_examples)[:n_test_shot + n_test_query]\n",
    "        support[i] = test_dataset[epi_cls, selected[:n_test_shot]]\n",
    "        query[i] = test_dataset[epi_cls, selected[n_test_shot:]]\n",
    "    support = np.expand_dims(support, axis=-1)\n",
    "    query = np.expand_dims(query, axis=-1)\n",
    "    labels = np.tile(np.arange(n_test_way)[:, np.newaxis], (1, n_test_query)).astype(np.uint8)\n",
    "    ls, ac = sess.run([ce_loss, acc], feed_dict={x: support, q: query, y:labels})\n",
    "    avg_acc += ac\n",
    "    if (epi+1) % 50 == 0:\n",
    "        print('[test episode {}/{}] => loss: {:.5f}, acc: {:.5f}'.format(epi+1, n_test_episodes, ls, ac))\n",
    "avg_acc /= n_test_episodes\n",
    "print('Average Test Accuracy: {:.5f}'.format(avg_acc))"
   ]
  },
  {
   "cell_type": "code",
   "execution_count": null,
   "metadata": {},
   "outputs": [],
   "source": []
  }
 ],
 "metadata": {
  "kernelspec": {
   "display_name": "tf",
   "language": "python",
   "name": "tf"
  },
  "language_info": {
   "codemirror_mode": {
    "name": "ipython",
    "version": 3
   },
   "file_extension": ".py",
   "mimetype": "text/x-python",
   "name": "python",
   "nbconvert_exporter": "python",
   "pygments_lexer": "ipython3",
   "version": "3.6.7"
  }
 },
 "nbformat": 4,
 "nbformat_minor": 2
}
