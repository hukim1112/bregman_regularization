{
 "cells": [
  {
   "cell_type": "code",
   "execution_count": 1,
   "metadata": {},
   "outputs": [],
   "source": [
    "import tensorflow as tf\n",
    "import os\n",
    "import cv2\n",
    "from matplotlib import pyplot as plt\n",
    "%matplotlib inline  \n",
    "\n",
    "from backbone import inception"
   ]
  },
  {
   "cell_type": "code",
   "execution_count": null,
   "metadata": {},
   "outputs": [],
   "source": [
    "help(tf.placeholder)"
   ]
  },
  {
   "cell_type": "code",
   "execution_count": 2,
   "metadata": {},
   "outputs": [
    {
     "name": "stdout",
     "output_type": "stream",
     "text": [
      "(?, 1, 1, 1024)\n"
     ]
    }
   ],
   "source": [
    "images = tf.placeholder(tf.float32, shape=[None, 224, 224, 3])\n",
    "logits, endpoints = inception.inception_v1(images, num_classes = 5, is_training=True)"
   ]
  },
  {
   "cell_type": "code",
   "execution_count": null,
   "metadata": {},
   "outputs": [],
   "source": [
    "var = tf.GraphKeys.GLOBAL_VARIABLES"
   ]
  },
  {
   "cell_type": "code",
   "execution_count": 3,
   "metadata": {},
   "outputs": [],
   "source": [
    "_list = tf.get_collection(tf.GraphKeys.GLOBAL_VARIABLES)"
   ]
  },
  {
   "cell_type": "code",
   "execution_count": 4,
   "metadata": {},
   "outputs": [
    {
     "name": "stdout",
     "output_type": "stream",
     "text": [
      "[<tf.Variable 'InceptionV1/Conv2d_1a_7x7/weights:0' shape=(7, 7, 3, 64) dtype=float32_ref>, <tf.Variable 'InceptionV1/Conv2d_1a_7x7/biases:0' shape=(64,) dtype=float32_ref>, <tf.Variable 'InceptionV1/Conv2d_2b_1x1/weights:0' shape=(1, 1, 64, 64) dtype=float32_ref>, <tf.Variable 'InceptionV1/Conv2d_2b_1x1/biases:0' shape=(64,) dtype=float32_ref>, <tf.Variable 'InceptionV1/Conv2d_2c_3x3/weights:0' shape=(3, 3, 64, 192) dtype=float32_ref>, <tf.Variable 'InceptionV1/Conv2d_2c_3x3/biases:0' shape=(192,) dtype=float32_ref>, <tf.Variable 'InceptionV1/Mixed_3b/Branch_0/Conv2d_0a_1x1/weights:0' shape=(1, 1, 192, 64) dtype=float32_ref>, <tf.Variable 'InceptionV1/Mixed_3b/Branch_0/Conv2d_0a_1x1/biases:0' shape=(64,) dtype=float32_ref>, <tf.Variable 'InceptionV1/Mixed_3b/Branch_1/Conv2d_0a_1x1/weights:0' shape=(1, 1, 192, 96) dtype=float32_ref>, <tf.Variable 'InceptionV1/Mixed_3b/Branch_1/Conv2d_0a_1x1/biases:0' shape=(96,) dtype=float32_ref>, <tf.Variable 'InceptionV1/Mixed_3b/Branch_1/Conv2d_0b_3x3/weights:0' shape=(3, 3, 96, 128) dtype=float32_ref>, <tf.Variable 'InceptionV1/Mixed_3b/Branch_1/Conv2d_0b_3x3/biases:0' shape=(128,) dtype=float32_ref>, <tf.Variable 'InceptionV1/Mixed_3b/Branch_2/Conv2d_0a_1x1/weights:0' shape=(1, 1, 192, 16) dtype=float32_ref>, <tf.Variable 'InceptionV1/Mixed_3b/Branch_2/Conv2d_0a_1x1/biases:0' shape=(16,) dtype=float32_ref>, <tf.Variable 'InceptionV1/Mixed_3b/Branch_2/Conv2d_0b_3x3/weights:0' shape=(3, 3, 16, 32) dtype=float32_ref>, <tf.Variable 'InceptionV1/Mixed_3b/Branch_2/Conv2d_0b_3x3/biases:0' shape=(32,) dtype=float32_ref>, <tf.Variable 'InceptionV1/Mixed_3b/Branch_3/Conv2d_0b_1x1/weights:0' shape=(1, 1, 192, 32) dtype=float32_ref>, <tf.Variable 'InceptionV1/Mixed_3b/Branch_3/Conv2d_0b_1x1/biases:0' shape=(32,) dtype=float32_ref>, <tf.Variable 'InceptionV1/Mixed_3c/Branch_0/Conv2d_0a_1x1/weights:0' shape=(1, 1, 256, 128) dtype=float32_ref>, <tf.Variable 'InceptionV1/Mixed_3c/Branch_0/Conv2d_0a_1x1/biases:0' shape=(128,) dtype=float32_ref>, <tf.Variable 'InceptionV1/Mixed_3c/Branch_1/Conv2d_0a_1x1/weights:0' shape=(1, 1, 256, 128) dtype=float32_ref>, <tf.Variable 'InceptionV1/Mixed_3c/Branch_1/Conv2d_0a_1x1/biases:0' shape=(128,) dtype=float32_ref>, <tf.Variable 'InceptionV1/Mixed_3c/Branch_1/Conv2d_0b_3x3/weights:0' shape=(3, 3, 128, 192) dtype=float32_ref>, <tf.Variable 'InceptionV1/Mixed_3c/Branch_1/Conv2d_0b_3x3/biases:0' shape=(192,) dtype=float32_ref>, <tf.Variable 'InceptionV1/Mixed_3c/Branch_2/Conv2d_0a_1x1/weights:0' shape=(1, 1, 256, 32) dtype=float32_ref>, <tf.Variable 'InceptionV1/Mixed_3c/Branch_2/Conv2d_0a_1x1/biases:0' shape=(32,) dtype=float32_ref>, <tf.Variable 'InceptionV1/Mixed_3c/Branch_2/Conv2d_0b_3x3/weights:0' shape=(3, 3, 32, 96) dtype=float32_ref>, <tf.Variable 'InceptionV1/Mixed_3c/Branch_2/Conv2d_0b_3x3/biases:0' shape=(96,) dtype=float32_ref>, <tf.Variable 'InceptionV1/Mixed_3c/Branch_3/Conv2d_0b_1x1/weights:0' shape=(1, 1, 256, 64) dtype=float32_ref>, <tf.Variable 'InceptionV1/Mixed_3c/Branch_3/Conv2d_0b_1x1/biases:0' shape=(64,) dtype=float32_ref>, <tf.Variable 'InceptionV1/Mixed_4b/Branch_0/Conv2d_0a_1x1/weights:0' shape=(1, 1, 480, 192) dtype=float32_ref>, <tf.Variable 'InceptionV1/Mixed_4b/Branch_0/Conv2d_0a_1x1/biases:0' shape=(192,) dtype=float32_ref>, <tf.Variable 'InceptionV1/Mixed_4b/Branch_1/Conv2d_0a_1x1/weights:0' shape=(1, 1, 480, 96) dtype=float32_ref>, <tf.Variable 'InceptionV1/Mixed_4b/Branch_1/Conv2d_0a_1x1/biases:0' shape=(96,) dtype=float32_ref>, <tf.Variable 'InceptionV1/Mixed_4b/Branch_1/Conv2d_0b_3x3/weights:0' shape=(3, 3, 96, 208) dtype=float32_ref>, <tf.Variable 'InceptionV1/Mixed_4b/Branch_1/Conv2d_0b_3x3/biases:0' shape=(208,) dtype=float32_ref>, <tf.Variable 'InceptionV1/Mixed_4b/Branch_2/Conv2d_0a_1x1/weights:0' shape=(1, 1, 480, 16) dtype=float32_ref>, <tf.Variable 'InceptionV1/Mixed_4b/Branch_2/Conv2d_0a_1x1/biases:0' shape=(16,) dtype=float32_ref>, <tf.Variable 'InceptionV1/Mixed_4b/Branch_2/Conv2d_0b_3x3/weights:0' shape=(3, 3, 16, 48) dtype=float32_ref>, <tf.Variable 'InceptionV1/Mixed_4b/Branch_2/Conv2d_0b_3x3/biases:0' shape=(48,) dtype=float32_ref>, <tf.Variable 'InceptionV1/Mixed_4b/Branch_3/Conv2d_0b_1x1/weights:0' shape=(1, 1, 480, 64) dtype=float32_ref>, <tf.Variable 'InceptionV1/Mixed_4b/Branch_3/Conv2d_0b_1x1/biases:0' shape=(64,) dtype=float32_ref>, <tf.Variable 'InceptionV1/Mixed_4c/Branch_0/Conv2d_0a_1x1/weights:0' shape=(1, 1, 512, 160) dtype=float32_ref>, <tf.Variable 'InceptionV1/Mixed_4c/Branch_0/Conv2d_0a_1x1/biases:0' shape=(160,) dtype=float32_ref>, <tf.Variable 'InceptionV1/Mixed_4c/Branch_1/Conv2d_0a_1x1/weights:0' shape=(1, 1, 512, 112) dtype=float32_ref>, <tf.Variable 'InceptionV1/Mixed_4c/Branch_1/Conv2d_0a_1x1/biases:0' shape=(112,) dtype=float32_ref>, <tf.Variable 'InceptionV1/Mixed_4c/Branch_1/Conv2d_0b_3x3/weights:0' shape=(3, 3, 112, 224) dtype=float32_ref>, <tf.Variable 'InceptionV1/Mixed_4c/Branch_1/Conv2d_0b_3x3/biases:0' shape=(224,) dtype=float32_ref>, <tf.Variable 'InceptionV1/Mixed_4c/Branch_2/Conv2d_0a_1x1/weights:0' shape=(1, 1, 512, 24) dtype=float32_ref>, <tf.Variable 'InceptionV1/Mixed_4c/Branch_2/Conv2d_0a_1x1/biases:0' shape=(24,) dtype=float32_ref>, <tf.Variable 'InceptionV1/Mixed_4c/Branch_2/Conv2d_0b_3x3/weights:0' shape=(3, 3, 24, 64) dtype=float32_ref>, <tf.Variable 'InceptionV1/Mixed_4c/Branch_2/Conv2d_0b_3x3/biases:0' shape=(64,) dtype=float32_ref>, <tf.Variable 'InceptionV1/Mixed_4c/Branch_3/Conv2d_0b_1x1/weights:0' shape=(1, 1, 512, 64) dtype=float32_ref>, <tf.Variable 'InceptionV1/Mixed_4c/Branch_3/Conv2d_0b_1x1/biases:0' shape=(64,) dtype=float32_ref>, <tf.Variable 'InceptionV1/Mixed_4d/Branch_0/Conv2d_0a_1x1/weights:0' shape=(1, 1, 512, 128) dtype=float32_ref>, <tf.Variable 'InceptionV1/Mixed_4d/Branch_0/Conv2d_0a_1x1/biases:0' shape=(128,) dtype=float32_ref>, <tf.Variable 'InceptionV1/Mixed_4d/Branch_1/Conv2d_0a_1x1/weights:0' shape=(1, 1, 512, 128) dtype=float32_ref>, <tf.Variable 'InceptionV1/Mixed_4d/Branch_1/Conv2d_0a_1x1/biases:0' shape=(128,) dtype=float32_ref>, <tf.Variable 'InceptionV1/Mixed_4d/Branch_1/Conv2d_0b_3x3/weights:0' shape=(3, 3, 128, 256) dtype=float32_ref>, <tf.Variable 'InceptionV1/Mixed_4d/Branch_1/Conv2d_0b_3x3/biases:0' shape=(256,) dtype=float32_ref>, <tf.Variable 'InceptionV1/Mixed_4d/Branch_2/Conv2d_0a_1x1/weights:0' shape=(1, 1, 512, 24) dtype=float32_ref>, <tf.Variable 'InceptionV1/Mixed_4d/Branch_2/Conv2d_0a_1x1/biases:0' shape=(24,) dtype=float32_ref>, <tf.Variable 'InceptionV1/Mixed_4d/Branch_2/Conv2d_0b_3x3/weights:0' shape=(3, 3, 24, 64) dtype=float32_ref>, <tf.Variable 'InceptionV1/Mixed_4d/Branch_2/Conv2d_0b_3x3/biases:0' shape=(64,) dtype=float32_ref>, <tf.Variable 'InceptionV1/Mixed_4d/Branch_3/Conv2d_0b_1x1/weights:0' shape=(1, 1, 512, 64) dtype=float32_ref>, <tf.Variable 'InceptionV1/Mixed_4d/Branch_3/Conv2d_0b_1x1/biases:0' shape=(64,) dtype=float32_ref>, <tf.Variable 'InceptionV1/Mixed_4e/Branch_0/Conv2d_0a_1x1/weights:0' shape=(1, 1, 512, 112) dtype=float32_ref>, <tf.Variable 'InceptionV1/Mixed_4e/Branch_0/Conv2d_0a_1x1/biases:0' shape=(112,) dtype=float32_ref>, <tf.Variable 'InceptionV1/Mixed_4e/Branch_1/Conv2d_0a_1x1/weights:0' shape=(1, 1, 512, 144) dtype=float32_ref>, <tf.Variable 'InceptionV1/Mixed_4e/Branch_1/Conv2d_0a_1x1/biases:0' shape=(144,) dtype=float32_ref>, <tf.Variable 'InceptionV1/Mixed_4e/Branch_1/Conv2d_0b_3x3/weights:0' shape=(3, 3, 144, 288) dtype=float32_ref>, <tf.Variable 'InceptionV1/Mixed_4e/Branch_1/Conv2d_0b_3x3/biases:0' shape=(288,) dtype=float32_ref>, <tf.Variable 'InceptionV1/Mixed_4e/Branch_2/Conv2d_0a_1x1/weights:0' shape=(1, 1, 512, 32) dtype=float32_ref>, <tf.Variable 'InceptionV1/Mixed_4e/Branch_2/Conv2d_0a_1x1/biases:0' shape=(32,) dtype=float32_ref>, <tf.Variable 'InceptionV1/Mixed_4e/Branch_2/Conv2d_0b_3x3/weights:0' shape=(3, 3, 32, 64) dtype=float32_ref>, <tf.Variable 'InceptionV1/Mixed_4e/Branch_2/Conv2d_0b_3x3/biases:0' shape=(64,) dtype=float32_ref>, <tf.Variable 'InceptionV1/Mixed_4e/Branch_3/Conv2d_0b_1x1/weights:0' shape=(1, 1, 512, 64) dtype=float32_ref>, <tf.Variable 'InceptionV1/Mixed_4e/Branch_3/Conv2d_0b_1x1/biases:0' shape=(64,) dtype=float32_ref>, <tf.Variable 'InceptionV1/Mixed_4f/Branch_0/Conv2d_0a_1x1/weights:0' shape=(1, 1, 528, 256) dtype=float32_ref>, <tf.Variable 'InceptionV1/Mixed_4f/Branch_0/Conv2d_0a_1x1/biases:0' shape=(256,) dtype=float32_ref>, <tf.Variable 'InceptionV1/Mixed_4f/Branch_1/Conv2d_0a_1x1/weights:0' shape=(1, 1, 528, 160) dtype=float32_ref>, <tf.Variable 'InceptionV1/Mixed_4f/Branch_1/Conv2d_0a_1x1/biases:0' shape=(160,) dtype=float32_ref>, <tf.Variable 'InceptionV1/Mixed_4f/Branch_1/Conv2d_0b_3x3/weights:0' shape=(3, 3, 160, 320) dtype=float32_ref>, <tf.Variable 'InceptionV1/Mixed_4f/Branch_1/Conv2d_0b_3x3/biases:0' shape=(320,) dtype=float32_ref>, <tf.Variable 'InceptionV1/Mixed_4f/Branch_2/Conv2d_0a_1x1/weights:0' shape=(1, 1, 528, 32) dtype=float32_ref>, <tf.Variable 'InceptionV1/Mixed_4f/Branch_2/Conv2d_0a_1x1/biases:0' shape=(32,) dtype=float32_ref>, <tf.Variable 'InceptionV1/Mixed_4f/Branch_2/Conv2d_0b_3x3/weights:0' shape=(3, 3, 32, 128) dtype=float32_ref>, <tf.Variable 'InceptionV1/Mixed_4f/Branch_2/Conv2d_0b_3x3/biases:0' shape=(128,) dtype=float32_ref>, <tf.Variable 'InceptionV1/Mixed_4f/Branch_3/Conv2d_0b_1x1/weights:0' shape=(1, 1, 528, 128) dtype=float32_ref>, <tf.Variable 'InceptionV1/Mixed_4f/Branch_3/Conv2d_0b_1x1/biases:0' shape=(128,) dtype=float32_ref>, <tf.Variable 'InceptionV1/Mixed_5b/Branch_0/Conv2d_0a_1x1/weights:0' shape=(1, 1, 832, 256) dtype=float32_ref>, <tf.Variable 'InceptionV1/Mixed_5b/Branch_0/Conv2d_0a_1x1/biases:0' shape=(256,) dtype=float32_ref>, <tf.Variable 'InceptionV1/Mixed_5b/Branch_1/Conv2d_0a_1x1/weights:0' shape=(1, 1, 832, 160) dtype=float32_ref>, <tf.Variable 'InceptionV1/Mixed_5b/Branch_1/Conv2d_0a_1x1/biases:0' shape=(160,) dtype=float32_ref>, <tf.Variable 'InceptionV1/Mixed_5b/Branch_1/Conv2d_0b_3x3/weights:0' shape=(3, 3, 160, 320) dtype=float32_ref>, <tf.Variable 'InceptionV1/Mixed_5b/Branch_1/Conv2d_0b_3x3/biases:0' shape=(320,) dtype=float32_ref>, <tf.Variable 'InceptionV1/Mixed_5b/Branch_2/Conv2d_0a_1x1/weights:0' shape=(1, 1, 832, 32) dtype=float32_ref>, <tf.Variable 'InceptionV1/Mixed_5b/Branch_2/Conv2d_0a_1x1/biases:0' shape=(32,) dtype=float32_ref>, <tf.Variable 'InceptionV1/Mixed_5b/Branch_2/Conv2d_0a_3x3/weights:0' shape=(3, 3, 32, 128) dtype=float32_ref>, <tf.Variable 'InceptionV1/Mixed_5b/Branch_2/Conv2d_0a_3x3/biases:0' shape=(128,) dtype=float32_ref>, <tf.Variable 'InceptionV1/Mixed_5b/Branch_3/Conv2d_0b_1x1/weights:0' shape=(1, 1, 832, 128) dtype=float32_ref>, <tf.Variable 'InceptionV1/Mixed_5b/Branch_3/Conv2d_0b_1x1/biases:0' shape=(128,) dtype=float32_ref>, <tf.Variable 'InceptionV1/Mixed_5c/Branch_0/Conv2d_0a_1x1/weights:0' shape=(1, 1, 832, 384) dtype=float32_ref>, <tf.Variable 'InceptionV1/Mixed_5c/Branch_0/Conv2d_0a_1x1/biases:0' shape=(384,) dtype=float32_ref>, <tf.Variable 'InceptionV1/Mixed_5c/Branch_1/Conv2d_0a_1x1/weights:0' shape=(1, 1, 832, 192) dtype=float32_ref>, <tf.Variable 'InceptionV1/Mixed_5c/Branch_1/Conv2d_0a_1x1/biases:0' shape=(192,) dtype=float32_ref>, <tf.Variable 'InceptionV1/Mixed_5c/Branch_1/Conv2d_0b_3x3/weights:0' shape=(3, 3, 192, 384) dtype=float32_ref>, <tf.Variable 'InceptionV1/Mixed_5c/Branch_1/Conv2d_0b_3x3/biases:0' shape=(384,) dtype=float32_ref>, <tf.Variable 'InceptionV1/Mixed_5c/Branch_2/Conv2d_0a_1x1/weights:0' shape=(1, 1, 832, 48) dtype=float32_ref>, <tf.Variable 'InceptionV1/Mixed_5c/Branch_2/Conv2d_0a_1x1/biases:0' shape=(48,) dtype=float32_ref>, <tf.Variable 'InceptionV1/Mixed_5c/Branch_2/Conv2d_0b_3x3/weights:0' shape=(3, 3, 48, 128) dtype=float32_ref>, <tf.Variable 'InceptionV1/Mixed_5c/Branch_2/Conv2d_0b_3x3/biases:0' shape=(128,) dtype=float32_ref>, <tf.Variable 'InceptionV1/Mixed_5c/Branch_3/Conv2d_0b_1x1/weights:0' shape=(1, 1, 832, 128) dtype=float32_ref>, <tf.Variable 'InceptionV1/Mixed_5c/Branch_3/Conv2d_0b_1x1/biases:0' shape=(128,) dtype=float32_ref>, <tf.Variable 'InceptionV1/Logits/Conv2d_0c_1x1/weights:0' shape=(1, 1, 1024, 5) dtype=float32_ref>, <tf.Variable 'InceptionV1/Logits/Conv2d_0c_1x1/biases:0' shape=(5,) dtype=float32_ref>]\n"
     ]
    }
   ],
   "source": [
    "print(_list)"
   ]
  },
  {
   "cell_type": "code",
   "execution_count": null,
   "metadata": {},
   "outputs": [],
   "source": [
    "checkpoint_exclude_scopes=[\"InceptionV1/Logits\", \"InceptionV1/AuxLogits\"]\n",
    "\n",
    "exclusions = [scope.strip() for scope in checkpoint_exclude_scopes]"
   ]
  },
  {
   "cell_type": "code",
   "execution_count": null,
   "metadata": {},
   "outputs": [],
   "source": [
    "def get_init_fn():\n",
    "    \"\"\"Returns a function run by the chief worker to warm-start the training.\"\"\"\n",
    "    checkpoint_exclude_scopes=[\"InceptionV1/Logits\", \"InceptionV1/AuxLogits\"]\n",
    "    \n",
    "    exclusions = [scope.strip() for scope in checkpoint_exclude_scopes]\n",
    "\n",
    "    variables_to_restore = []\n",
    "    for var in _list:\n",
    "        excluded = False\n",
    "        for exclusion in exclusions:\n",
    "            if var.op.name.startswith(exclusion):\n",
    "                excluded = True\n",
    "                break\n",
    "        if not excluded:\n",
    "            variables_to_restore.append(var)\n",
    "    return variables_to_restore"
   ]
  },
  {
   "cell_type": "code",
   "execution_count": null,
   "metadata": {},
   "outputs": [],
   "source": [
    "slim = tf.contrib.slim\n",
    "variables_to_restore = get_init_fn()"
   ]
  },
  {
   "cell_type": "code",
   "execution_count": null,
   "metadata": {},
   "outputs": [],
   "source": [
    "variables_to_restore"
   ]
  },
  {
   "cell_type": "code",
   "execution_count": null,
   "metadata": {},
   "outputs": [],
   "source": []
  }
 ],
 "metadata": {
  "kernelspec": {
   "display_name": "tf",
   "language": "python",
   "name": "tf"
  },
  "language_info": {
   "codemirror_mode": {
    "name": "ipython",
    "version": 3
   },
   "file_extension": ".py",
   "mimetype": "text/x-python",
   "name": "python",
   "nbconvert_exporter": "python",
   "pygments_lexer": "ipython3",
   "version": "3.6.7"
  }
 },
 "nbformat": 4,
 "nbformat_minor": 2
}
