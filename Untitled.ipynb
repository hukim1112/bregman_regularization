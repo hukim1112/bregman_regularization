{
 "cells": [
  {
   "cell_type": "code",
   "execution_count": 1,
   "metadata": {},
   "outputs": [],
   "source": [
    "import tensorflow as tf\n",
    "from datasets import datasets\n",
    "from models import vanilla, bregman"
   ]
  },
  {
   "cell_type": "code",
   "execution_count": null,
   "metadata": {},
   "outputs": [],
   "source": [
    "bregman_exp_path = '/home/dan/prj/bregman_exp'"
   ]
  },
  {
   "cell_type": "code",
   "execution_count": 2,
   "metadata": {},
   "outputs": [],
   "source": [
    "def main():\n",
    "    params = {'learning_rate' : 0.001,\n",
    "     \t\t\t'batch_size' : 64,\n",
    "     \t\t\t'pretrained_model' : os.path.join(bregman_exp_path, 'checkpoints/inception_v1.ckpt'),\n",
    "     \t\t\t 'model_dir' : os.path.join(bregman_exp_path, 'models/bregman_116/model'),\n",
    "     \t\t\t 'iteration' : 10000,\n",
    "     \t\t\t  'num_classes' : 5,\n",
    "     \t\t\t   'train_datadir' : os.path.join(bregman_exp_path, 'datasets/flowers/train_116'),\n",
    "     \t\t\t    'eval_datadir' : os.path.join(bregman_exp_path, 'datasets/flowers/eval')}\n",
    "\n",
    "    trainer = bregman.model(params)\n",
    "    trainer.train(params)\n",
    "    del trainer\n",
    "    params['pretrained_model'] = None\n",
    "    params['eval_datadir'] = os.path.join(bregman_exp_path, 'datasets/flowers/test')\n",
    "    tester = bregman.model(params)\n",
    "    score = tester.eval(params)\n",
    "\n",
    "    print(\"This model's Final score is {}\".format(score))"
   ]
  },
  {
   "cell_type": "code",
   "execution_count": 3,
   "metadata": {},
   "outputs": [
    {
     "name": "stdout",
     "output_type": "stream",
     "text": [
      "Each batch we get 12 images for each category\n",
      "INFO:tensorflow:Restoring parameters from /home/dan/prj/bregman_exp/checkpoints/inception_v1.ckpt\n",
      "restored from pretrained model\n",
      "iteration 8 : loss=0.12373000383377075\n",
      "iteration 18 : loss=0.07710137963294983\n",
      "iteration 28 : loss=0.15499995648860931\n",
      "iteration 38 : loss=0.080194853246212\n",
      "iteration 48 : loss=0.12387295067310333\n",
      "iteration 58 : loss=0.11367873102426529\n",
      "iteration 68 : loss=0.06132487580180168\n",
      "iteration 78 : loss=0.07538381963968277\n",
      "iteration 88 : loss=0.12145546823740005\n",
      "iteration 98 : loss=0.14785754680633545\n",
      "iteration 108 : loss=0.06399005651473999\n",
      "iteration 118 : loss=0.021376833319664\n",
      "iteration 128 : loss=0.03268775716423988\n",
      "iteration 138 : loss=0.05132632702589035\n",
      "iteration 148 : loss=0.04972599446773529\n",
      "iteration 158 : loss=0.037935301661491394\n",
      "iteration 168 : loss=0.05384400859475136\n",
      "iteration 178 : loss=0.02489537000656128\n",
      "iteration 188 : loss=0.1190977469086647\n",
      "iteration 198 : loss=0.047289133071899414\n",
      "iteration 208 : loss=0.030408203601837158\n",
      "iteration 218 : loss=0.045418377965688705\n",
      "iteration 228 : loss=0.01555172260850668\n",
      "iteration 238 : loss=0.027614617720246315\n",
      "iteration 248 : loss=0.046375248581171036\n",
      "iteration 258 : loss=0.10052582621574402\n",
      "iteration 268 : loss=0.002049260074272752\n",
      "iteration 278 : loss=0.017371751368045807\n",
      "iteration 288 : loss=0.010138271376490593\n",
      "iteration 298 : loss=0.057976529002189636\n",
      "iteration 308 : loss=0.04002271592617035\n",
      "iteration 318 : loss=0.03906523436307907\n",
      "iteration 328 : loss=0.005257571581751108\n",
      "iteration 338 : loss=0.027496889233589172\n",
      "iteration 348 : loss=0.013758314773440361\n",
      "iteration 358 : loss=0.1088019385933876\n",
      "iteration 368 : loss=0.013517515733838081\n",
      "iteration 378 : loss=0.00910115148872137\n",
      "iteration 388 : loss=0.0063167414627969265\n",
      "iteration 398 : loss=0.011448820121586323\n",
      "iteration 408 : loss=0.0751245841383934\n",
      "iteration 418 : loss=0.03364008292555809\n",
      "iteration 428 : loss=0.04562538489699364\n",
      "iteration 438 : loss=0.00507844053208828\n",
      "iteration 448 : loss=0.02305677905678749\n",
      "iteration 458 : loss=0.010981953702867031\n",
      "iteration 468 : loss=0.10607137531042099\n",
      "iteration 478 : loss=0.00373722892254591\n",
      "iteration 488 : loss=0.04281264916062355\n",
      "iteration 498 : loss=0.007339363917708397\n",
      "evaluation accuracy 0.061194028705358505\n",
      "iteration 508 : loss=0.09258738905191422\n",
      "iteration 518 : loss=0.046127799898386\n",
      "iteration 528 : loss=0.007165397983044386\n",
      "iteration 538 : loss=0.0019043019274249673\n",
      "iteration 548 : loss=0.018163112923502922\n",
      "iteration 558 : loss=0.049566175788640976\n",
      "iteration 568 : loss=0.0018014119705185294\n",
      "iteration 578 : loss=0.0017103084828704596\n",
      "iteration 588 : loss=0.004163721110671759\n",
      "iteration 598 : loss=0.051427893340587616\n",
      "iteration 608 : loss=0.06354432553052902\n",
      "iteration 618 : loss=0.03190910816192627\n",
      "iteration 628 : loss=0.014819536358118057\n",
      "iteration 638 : loss=0.00418690824881196\n",
      "iteration 648 : loss=0.048800524324178696\n",
      "iteration 658 : loss=0.02371407300233841\n",
      "iteration 668 : loss=0.13229694962501526\n",
      "iteration 678 : loss=0.21048280596733093\n",
      "iteration 688 : loss=0.03022906556725502\n",
      "iteration 698 : loss=0.007240704260766506\n",
      "iteration 708 : loss=0.05835755541920662\n",
      "iteration 718 : loss=0.01691330596804619\n",
      "Got Keyboard Interrupt, saving model and close\n",
      "Each batch we get 12 images for each category\n",
      "INFO:tensorflow:Restoring parameters from /home/dan/prj/bregman_exp/models/bregman_116/model-729\n",
      "restored from latest checkpoint\n",
      "This model's Final score is 0.20000000298023224\n"
     ]
    }
   ],
   "source": [
    "main()"
   ]
  },
  {
   "cell_type": "code",
   "execution_count": null,
   "metadata": {},
   "outputs": [],
   "source": []
  }
 ],
 "metadata": {
  "kernelspec": {
   "display_name": "p3tf",
   "language": "python",
   "name": "p3tf"
  },
  "language_info": {
   "codemirror_mode": {
    "name": "ipython",
    "version": 3
   },
   "file_extension": ".py",
   "mimetype": "text/x-python",
   "name": "python",
   "nbconvert_exporter": "python",
   "pygments_lexer": "ipython3",
   "version": "3.6.7"
  }
 },
 "nbformat": 4,
 "nbformat_minor": 2
}
