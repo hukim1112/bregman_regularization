{
 "cells": [
  {
   "cell_type": "code",
   "execution_count": 1,
   "metadata": {},
   "outputs": [],
   "source": [
    "import tensorflow as tf\n",
    "import os\n",
    "import cv2\n",
    "from matplotlib import pyplot as plt\n",
    "%matplotlib inline  \n",
    "\n",
    "from backbone import inception"
   ]
  },
  {
   "cell_type": "code",
   "execution_count": 66,
   "metadata": {},
   "outputs": [],
   "source": [
    "from models import models\n",
    "from datasets import flower_dataset\n",
    "import random\n",
    "import os\n",
    "import shutil"
   ]
  },
  {
   "cell_type": "code",
   "execution_count": 67,
   "metadata": {},
   "outputs": [],
   "source": [
    "def split_list(_list, amount):\n",
    "    return _list[:amount], _list[amount:]"
   ]
  },
  {
   "cell_type": "code",
   "execution_count": 81,
   "metadata": {},
   "outputs": [],
   "source": [
    "def get_split_dataset(dataset_dir, dest_dir, dict_of_split_info):\n",
    "  # split flower dataset into seperated directory\n",
    "  \"\"\"\n",
    "      arguments\n",
    "        1. dataset_dir : directory of original dataset uncompressed\n",
    "        2. dict_of_split_info : dict of split directory names and number of images each split each split.\n",
    "            example : {'train' : 2500, 'eval' : 500, 'test' : 670}. note that all files are 3670.\n",
    "      return\n",
    "        None but images in original directory would be splited into directories of split names     \n",
    "  \"\"\"\n",
    "  # load dataset from original flower-image names and shuffle them.\n",
    "  filepaths, class_names_to_ids = flower_dataset.load_data(dataset_dir)\n",
    "  random.shuffle(filepaths)\n",
    "\n",
    "  splited_list = {}\n",
    "  for split_name in dict_of_split_info.keys():\n",
    "        splited_list[split_name], filepaths = split_list(filepaths, dict_of_split_info[split_name])\n",
    "        \n",
    "  #check total numbers in dictionary to be matched with real total number of files.\n",
    "  if len(filepaths) != 0:\n",
    "    print(\"total number of images is not correct in your split_num dictionary.\")\n",
    "    return\n",
    "\n",
    "  # Make directories for each category of each split\n",
    "  for split_name in dict_of_split_info.keys():\n",
    "        for category in class_names_to_ids.keys():\n",
    "            os.makedirs(os.path.join(dest_dir, split_name, category), exist_ok=True)\n",
    "\n",
    "  \n",
    "  for split_name in splited_list.keys():\n",
    "        path = os.path.join(dest_dir, split_name)\n",
    "        for src_file in splited_list[split_name]:\n",
    "            filename = os.path.basename(src_file)\n",
    "            category = os.path.split( os.path.dirname(src_file) )[1]\n",
    "            print(category)\n",
    "            dest_file = os.path.join(path, category, filename)\n",
    "            shutil.copyfile(src_file, dest_file)\n",
    "\n",
    "  return"
   ]
  },
  {
   "cell_type": "code",
   "execution_count": 82,
   "metadata": {},
   "outputs": [],
   "source": [
    "dict_of_split_info = {'train' : 2500, 'eval' : 500, 'test' : 670}"
   ]
  }
 ],
 "metadata": {
  "kernelspec": {
   "display_name": "p3tf",
   "language": "python",
   "name": "p3tf"
  },
  "language_info": {
   "codemirror_mode": {
    "name": "ipython",
    "version": 3
   },
   "file_extension": ".py",
   "mimetype": "text/x-python",
   "name": "python",
   "nbconvert_exporter": "python",
   "pygments_lexer": "ipython3",
   "version": "3.6.7"
  }
 },
 "nbformat": 4,
 "nbformat_minor": 2
}
